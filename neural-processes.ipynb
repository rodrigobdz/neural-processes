{
  "nbformat": 4,
  "nbformat_minor": 0,
  "metadata": {
    "colab": {
      "name": "neural-processes.ipynb",
      "provenance": [],
      "collapsed_sections": [],
      "include_colab_link": true
    },
    "kernelspec": {
      "display_name": "Python 3",
      "name": "python3"
    },
    "accelerator": "GPU"
  },
  "cells": [
    {
      "cell_type": "markdown",
      "metadata": {
        "id": "view-in-github",
        "colab_type": "text"
      },
      "source": [
        "<a href=\"https://colab.research.google.com/github/rodrigobdz/neural-processes/blob/main/neural-processes.ipynb\" target=\"_parent\"><img src=\"https://colab.research.google.com/assets/colab-badge.svg\" alt=\"Open In Colab\"/></a>"
      ]
    },
    {
      "cell_type": "code",
      "execution_count": null,
      "metadata": {},
      "outputs": [],
      "source": [
        "# Upload all .py files in neural_processes folder\n",
        "# i.e. data_generator.py, decoder.py, encoder.py, mlp.py, model.py, and utils.py\n",
        "from google.colab import files\n",
        "uploaded = files.upload()"
      ]
    },
    {
      "cell_type": "code",
      "execution_count": null,
      "metadata": {},
      "outputs": [],
      "source": [
        "# Place uploaded files in neural_processes folder to mimic folder structure in repo\n",
        "!rm -rf sample_data/\n",
        "!mkdir -p neural_processes\n",
        "!mv *.py neural_processes/"
      ]
    },
    {
      "cell_type": "code",
      "execution_count": null,
      "metadata": {},
      "outputs": [],
      "source": [
        "import neural_processes"
      ]
    },
    {
      "cell_type": "code",
      "metadata": {
        "id": "d8bl_dSnAPpJ"
      },
      "source": [
        "import matplotlib.pyplot as plt\n",
        "\n",
        "import torch\n",
        "from torch import distributions\n",
        "from torch import nn \n",
        "from torch import optim\n",
        "\n",
        "import torchvision\n",
        "from torchvision import datasets"
      ],
      "execution_count": null,
      "outputs": []
    },
    {
      "cell_type": "code",
      "metadata": {
        "colab": {
          "base_uri": "https://localhost:8080/"
        },
        "id": "zICaiMlRUsWH",
        "outputId": "65b28c52-6721-4efb-85a1-47878760b812"
      },
      "source": [
        "dev = torch.device('cuda' if torch.cuda.is_available() else 'cpu')\n",
        "dev"
      ],
      "execution_count": null,
      "outputs": [
        {
          "output_type": "execute_result",
          "data": {
            "text/plain": [
              "device(type='cuda')"
            ]
          },
          "metadata": {
            "tags": []
          },
          "execution_count": 2
        }
      ]
    },
    {
      "cell_type": "code",
      "metadata": {
        "id": "g7T37vkeAKW2"
      },
      "source": [
        "batch_size = 16\n",
        "max_num_context = 50\n",
        "x_size = 1\n",
        "y_size = 1\n",
        "l_length = 0.6\n",
        "sigma_length = 1.\n",
        "num_iter = 10001\n",
        "save_iter = 1000"
      ],
      "execution_count": null,
      "outputs": []
    },
    {
      "cell_type": "code",
      "metadata": {
        "id": "cfWpsUsOFgwx"
      },
      "source": [
        "gp = neural_processes.data_generator.GPCurves(batch_size, max_num_context, x_size, y_size, l_length, sigma_length, dev='cuda')\n",
        "train_list = [gp.generate_curves() for _ in range(num_iter)]"
      ],
      "execution_count": null,
      "outputs": []
    },
    {
      "cell_type": "code",
      "metadata": {
        "id": "6eaYnBjxD9Hh"
      },
      "source": [
        "batch_size = 1\n",
        "gptest = neural_processes.data_generator.GPCurves(batch_size, max_num_context, testing=True, dev='cuda')\n",
        "test_list = [gptest.generate_curves()]"
      ],
      "execution_count": null,
      "outputs": []
    },
    {
      "cell_type": "code",
      "metadata": {
        "id": "LfbGtTiBP8XH"
      },
      "source": [
        "in_features = 1 \n",
        "h_size = 128\n",
        "encoder_out = [128, 256, 512, 1024] # [h_size]*4\n",
        "decoder_out = [512, 256] + [2] # [128]*2 + [2] \n",
        "mc_size = 1"
      ],
      "execution_count": null,
      "outputs": []
    },
    {
      "cell_type": "code",
      "metadata": {
        "colab": {
          "base_uri": "https://localhost:8080/"
        },
        "id": "tXgtJbVxGR9D",
        "outputId": "28e43e3a-3646-4bd0-fd9c-c1da7725d6c5"
      },
      "source": [
        "np = neural_processes.model.NeuralProcess(in_features, encoder_out, decoder_out, h_size, mc_size)\n",
        "np.to(dev)"
      ],
      "execution_count": null,
      "outputs": [
        {
          "output_type": "execute_result",
          "data": {
            "text/plain": [
              "NeuralProcess(\n",
              "  (_encoder): Encoder(\n",
              "    (_mlp): MLP(\n",
              "      (linears): ModuleList(\n",
              "        (0): Linear(in_features=2, out_features=128, bias=True)\n",
              "        (1): ReLU()\n",
              "        (2): Linear(in_features=128, out_features=256, bias=True)\n",
              "        (3): ReLU()\n",
              "        (4): Linear(in_features=256, out_features=512, bias=True)\n",
              "        (5): ReLU()\n",
              "        (6): Linear(in_features=512, out_features=1024, bias=True)\n",
              "      )\n",
              "    )\n",
              "    (_mu): Linear(in_features=1024, out_features=128, bias=True)\n",
              "    (_log_sigma): Linear(in_features=1024, out_features=128, bias=True)\n",
              "  )\n",
              "  (_decoder): Decoder(\n",
              "    (_mlp): MLP(\n",
              "      (linears): ModuleList(\n",
              "        (0): Linear(in_features=129, out_features=512, bias=True)\n",
              "        (1): ReLU()\n",
              "        (2): Linear(in_features=512, out_features=256, bias=True)\n",
              "        (3): ReLU()\n",
              "        (4): Linear(in_features=256, out_features=2, bias=True)\n",
              "      )\n",
              "    )\n",
              "  )\n",
              ")"
            ]
          },
          "metadata": {
            "tags": []
          },
          "execution_count": 21
        }
      ]
    },
    {
      "cell_type": "code",
      "metadata": {
        "id": "_h6W3A-2HjvX"
      },
      "source": [
        "opt = optim.Adam(np.parameters(), lr=5e-5) "
      ],
      "execution_count": null,
      "outputs": []
    },
    {
      "cell_type": "code",
      "metadata": {
        "colab": {
          "base_uri": "https://localhost:8080/",
          "height": 1000
        },
        "id": "ftyiW4NRZcTF",
        "outputId": "819798a8-ad2e-47f2-de3b-af0fc2356a3d"
      },
      "source": [
        "mu, sigma = neural_processes.utils.fit(num_iter, save_iter, np, opt, train_list, test_list)"
      ],
      "execution_count": null,
      "outputs": [
        {
          "output_type": "stream",
          "text": [
            "Iteration: 0, loss: 11.85389232635498\n"
          ],
          "name": "stdout"
        },
        {
          "output_type": "display_data",
          "data": {
            "image/png": "[encoded data removed]",
            "text/plain": [
              "<Figure size 432x288 with 1 Axes>"
            ]
          },
          "metadata": {
            "tags": [],
            "needs_background": "light"
          }
        },
        {
          "output_type": "stream",
          "text": [
            "Iteration: 1000, loss: 0.7990963459014893\n"
          ],
          "name": "stdout"
        },
        {
          "output_type": "display_data",
          "data": {
            "image/png": "[encoded data removed]",
            "text/plain": [
              "<Figure size 432x288 with 1 Axes>"
            ]
          },
          "metadata": {
            "tags": [],
            "needs_background": "light"
          }
        },
        {
          "output_type": "stream",
          "text": [
            "Iteration: 2000, loss: -4.477667808532715\n"
          ],
          "name": "stdout"
        },
        {
          "output_type": "display_data",
          "data": {
            "image/png": "[encoded data removed]",
            "text/plain": [
              "<Figure size 432x288 with 1 Axes>"
            ]
          },
          "metadata": {
            "tags": [],
            "needs_background": "light"
          }
        },
        {
          "output_type": "stream",
          "text": [
            "Iteration: 3000, loss: -0.28295040130615234\n"
          ],
          "name": "stdout"
        },
        {
          "output_type": "display_data",
          "data": {
            "image/png": "[encoded data removed]",
            "text/plain": [
              "<Figure size 432x288 with 1 Axes>"
            ]
          },
          "metadata": {
            "tags": [],
            "needs_background": "light"
          }
        },
        {
          "output_type": "stream",
          "text": [
            "Iteration: 4000, loss: 14.126479148864746\n"
          ],
          "name": "stdout"
        },
        {
          "output_type": "display_data",
          "data": {
            "image/png": "[encoded data removed]",
            "text/plain": [
              "<Figure size 432x288 with 1 Axes>"
            ]
          },
          "metadata": {
            "tags": [],
            "needs_background": "light"
          }
        },
        {
          "output_type": "stream",
          "text": [
            "Iteration: 5000, loss: -2.8364553451538086\n"
          ],
          "name": "stdout"
        },
        {
          "output_type": "display_data",
          "data": {
            "image/png": "[encoded data removed]",
            "text/plain": [
              "<Figure size 432x288 with 1 Axes>"
            ]
          },
          "metadata": {
            "tags": [],
            "needs_background": "light"
          }
        },
        {
          "output_type": "stream",
          "text": [
            "Iteration: 6000, loss: -11.17148494720459\n"
          ],
          "name": "stdout"
        },
        {
          "output_type": "display_data",
          "data": {
            "image/png": "[encoded data removed]",
            "text/plain": [
              "<Figure size 432x288 with 1 Axes>"
            ]
          },
          "metadata": {
            "tags": [],
            "needs_background": "light"
          }
        },
        {
          "output_type": "stream",
          "text": [
            "Iteration: 7000, loss: 9.848689079284668\n"
          ],
          "name": "stdout"
        },
        {
          "output_type": "display_data",
          "data": {
            "image/png": "[encoded data removed]",
            "text/plain": [
              "<Figure size 432x288 with 1 Axes>"
            ]
          },
          "metadata": {
            "tags": [],
            "needs_background": "light"
          }
        },
        {
          "output_type": "stream",
          "text": [
            "Iteration: 8000, loss: 12.867879867553711\n"
          ],
          "name": "stdout"
        },
        {
          "output_type": "display_data",
          "data": {
            "image/png": "[encoded data removed]",
            "text/plain": [
              "<Figure size 432x288 with 1 Axes>"
            ]
          },
          "metadata": {
            "tags": [],
            "needs_background": "light"
          }
        },
        {
          "output_type": "stream",
          "text": [
            "Iteration: 9000, loss: 1.8870407342910767\n"
          ],
          "name": "stdout"
        },
        {
          "output_type": "display_data",
          "data": {
            "image/png": "[encoded data removed]",
            "text/plain": [
              "<Figure size 432x288 with 1 Axes>"
            ]
          },
          "metadata": {
            "tags": [],
            "needs_background": "light"
          }
        },
        {
          "output_type": "stream",
          "text": [
            "Iteration: 10000, loss: -3.954042911529541\n"
          ],
          "name": "stdout"
        },
        {
          "output_type": "display_data",
          "data": {
            "image/png": "[encoded data removed]",
            "text/plain": [
              "<Figure size 432x288 with 1 Axes>"
            ]
          },
          "metadata": {
            "tags": [],
            "needs_background": "light"
          }
        }
      ]
    },
    {
      "cell_type": "code",
      "metadata": {
        "id": "eQktuXGt1HZM"
      },
      "source": [
        "train_mnist = datasets.MNIST('./data', download=True, transform=torchvision.transforms.ToTensor()) \n",
        "test_mnist = datasets.MNIST('./data', train=False, download=True, transform=torchvision.transforms.ToTensor())"
      ],
      "execution_count": null,
      "outputs": []
    },
    {
      "cell_type": "code",
      "metadata": {
        "id": "ZSK2mhy97niG"
      },
      "source": [
        "params = {'batch_size': 2,\n",
        "          'shuffle': False,\n",
        "          'num_workers': 4}"
      ],
      "execution_count": null,
      "outputs": []
    },
    {
      "cell_type": "code",
      "metadata": {
        "id": "GjrSZnEF69g7"
      },
      "source": [
        "training_generator = torch.utils.data.DataLoader(train_mnist, **params)"
      ],
      "execution_count": null,
      "outputs": []
    },
    {
      "cell_type": "code",
      "metadata": {
        "colab": {
          "base_uri": "https://localhost:8080/"
        },
        "id": "PzzxAGSqA_Co",
        "outputId": "e591affd-e46e-4e50-e53c-3783e4172aa5"
      },
      "source": [
        "a = torch.rand(2, 3, 2)\n",
        "b = a[0]\n",
        "c = a[1]\n",
        "b == c"
      ],
      "execution_count": null,
      "outputs": [
        {
          "output_type": "execute_result",
          "data": {
            "text/plain": [
              "tensor([[False, False],\n",
              "        [False, False],\n",
              "        [False, False]])"
            ]
          },
          "metadata": {
            "tags": []
          },
          "execution_count": 20
        }
      ]
    },
    {
      "cell_type": "code",
      "metadata": {
        "colab": {
          "base_uri": "https://localhost:8080/"
        },
        "id": "zkNhRFR865He",
        "outputId": "6694d9a9-24bc-4092-f1cd-b32459592a00"
      },
      "source": [
        "for _ in range(2):\n",
        "  for local_batch, local_labels in training_generator:\n",
        "    local_batch, local_labels = local_batch.to('cpu'), local_labels.to('cpu')\n",
        "    print(local_batch.shape)\n",
        "    print(local_batch[0] == local_batch[1])\n",
        "    break\n",
        "  break"
      ],
      "execution_count": null,
      "outputs": [
        {
          "output_type": "stream",
          "text": [
            "torch.Size([2, 1, 28, 28])\n",
            "tensor([[[ True,  True,  True,  True,  True,  True,  True,  True,  True,  True,\n",
            "           True,  True,  True,  True,  True,  True,  True,  True,  True,  True,\n",
            "           True,  True,  True,  True,  True,  True,  True,  True],\n",
            "         [ True,  True,  True,  True,  True,  True,  True,  True,  True,  True,\n",
            "           True,  True,  True,  True,  True,  True,  True,  True,  True,  True,\n",
            "           True,  True,  True,  True,  True,  True,  True,  True],\n",
            "         [ True,  True,  True,  True,  True,  True,  True,  True,  True,  True,\n",
            "           True,  True,  True,  True,  True,  True,  True,  True,  True,  True,\n",
            "           True,  True,  True,  True,  True,  True,  True,  True],\n",
            "         [ True,  True,  True,  True,  True,  True,  True,  True,  True,  True,\n",
            "           True,  True,  True,  True,  True,  True,  True,  True,  True,  True,\n",
            "           True,  True,  True,  True,  True,  True,  True,  True],\n",
            "         [ True,  True,  True,  True,  True,  True,  True,  True,  True,  True,\n",
            "           True,  True,  True,  True,  True, False, False, False, False, False,\n",
            "           True,  True,  True,  True,  True,  True,  True,  True],\n",
            "         [ True,  True,  True,  True,  True,  True,  True,  True,  True,  True,\n",
            "           True,  True, False, False, False, False, False, False, False, False,\n",
            "          False, False, False, False,  True,  True,  True,  True],\n",
            "         [ True,  True,  True,  True,  True,  True,  True,  True, False, False,\n",
            "          False, False, False, False, False,  True, False, False, False, False,\n",
            "          False, False, False, False,  True,  True,  True,  True],\n",
            "         [ True,  True,  True,  True,  True,  True,  True, False, False, False,\n",
            "          False, False, False, False, False,  True, False, False, False, False,\n",
            "          False, False, False,  True,  True,  True,  True,  True],\n",
            "         [ True,  True,  True,  True,  True,  True,  True, False, False, False,\n",
            "          False, False, False, False, False, False, False, False, False, False,\n",
            "          False, False,  True,  True,  True,  True,  True,  True],\n",
            "         [ True,  True,  True,  True,  True,  True,  True,  True, False, False,\n",
            "          False, False,  True, False, False, False, False, False, False, False,\n",
            "          False, False,  True,  True,  True,  True,  True,  True],\n",
            "         [ True,  True,  True,  True,  True,  True,  True,  True,  True, False,\n",
            "          False, False, False, False, False, False, False, False,  True,  True,\n",
            "          False, False, False,  True,  True,  True,  True,  True],\n",
            "         [ True,  True,  True,  True,  True,  True,  True,  True, False, False,\n",
            "          False, False, False, False, False,  True,  True,  True,  True,  True,\n",
            "          False, False, False,  True,  True,  True,  True,  True],\n",
            "         [ True,  True,  True,  True,  True,  True,  True, False, False, False,\n",
            "          False, False, False, False, False,  True,  True,  True,  True,  True,\n",
            "          False, False, False,  True,  True,  True,  True,  True],\n",
            "         [ True,  True,  True,  True,  True,  True,  True, False, False, False,\n",
            "          False,  True, False, False, False, False, False, False,  True,  True,\n",
            "          False, False, False,  True,  True,  True,  True,  True],\n",
            "         [ True,  True,  True,  True,  True,  True,  True, False, False, False,\n",
            "           True,  True,  True, False, False, False, False, False, False,  True,\n",
            "          False, False, False,  True,  True,  True,  True,  True],\n",
            "         [ True,  True,  True,  True,  True,  True, False, False, False, False,\n",
            "           True,  True,  True,  True, False, False, False, False, False, False,\n",
            "          False, False, False,  True,  True,  True,  True,  True],\n",
            "         [ True,  True,  True,  True,  True,  True, False, False, False, False,\n",
            "           True,  True,  True,  True,  True, False, False, False, False, False,\n",
            "          False, False, False,  True,  True,  True,  True,  True],\n",
            "         [ True,  True,  True,  True,  True,  True, False, False, False,  True,\n",
            "           True,  True,  True,  True,  True,  True,  True, False, False, False,\n",
            "          False, False,  True,  True,  True,  True,  True,  True],\n",
            "         [ True,  True,  True,  True,  True,  True, False, False, False,  True,\n",
            "           True,  True,  True,  True, False, False, False, False, False, False,\n",
            "          False,  True,  True,  True,  True,  True,  True,  True],\n",
            "         [ True,  True,  True,  True,  True,  True, False, False, False,  True,\n",
            "           True,  True, False, False, False, False, False,  True, False, False,\n",
            "           True,  True,  True,  True,  True,  True,  True,  True],\n",
            "         [ True,  True,  True,  True,  True,  True, False, False, False, False,\n",
            "          False, False, False, False, False,  True, False, False, False,  True,\n",
            "           True,  True,  True,  True,  True,  True,  True,  True],\n",
            "         [ True,  True,  True,  True,  True,  True, False, False, False, False,\n",
            "          False, False, False, False, False, False, False, False,  True,  True,\n",
            "           True,  True,  True,  True,  True,  True,  True,  True],\n",
            "         [ True,  True,  True,  True,  True,  True, False, False, False, False,\n",
            "           True, False, False, False, False, False,  True,  True,  True,  True,\n",
            "           True,  True,  True,  True,  True,  True,  True,  True],\n",
            "         [ True,  True,  True,  True, False, False, False, False, False, False,\n",
            "           True, False, False, False,  True,  True,  True,  True,  True,  True,\n",
            "           True,  True,  True,  True,  True,  True,  True,  True],\n",
            "         [ True,  True,  True,  True, False, False, False, False, False, False,\n",
            "          False, False,  True,  True,  True,  True,  True,  True,  True,  True,\n",
            "           True,  True,  True,  True,  True,  True,  True,  True],\n",
            "         [ True,  True,  True,  True,  True,  True,  True,  True,  True,  True,\n",
            "           True,  True,  True,  True,  True,  True,  True,  True,  True,  True,\n",
            "           True,  True,  True,  True,  True,  True,  True,  True],\n",
            "         [ True,  True,  True,  True,  True,  True,  True,  True,  True,  True,\n",
            "           True,  True,  True,  True,  True,  True,  True,  True,  True,  True,\n",
            "           True,  True,  True,  True,  True,  True,  True,  True],\n",
            "         [ True,  True,  True,  True,  True,  True,  True,  True,  True,  True,\n",
            "           True,  True,  True,  True,  True,  True,  True,  True,  True,  True,\n",
            "           True,  True,  True,  True,  True,  True,  True,  True]]])\n"
          ],
          "name": "stdout"
        }
      ]
    },
    {
      "cell_type": "code",
      "metadata": {
        "id": "2vKx2UzyH1Ww"
      },
      "source": [
        "x, y, xt, yt = test_list[0]"
      ],
      "execution_count": null,
      "outputs": []
    },
    {
      "cell_type": "code",
      "metadata": {
        "colab": {
          "base_uri": "https://localhost:8080/",
          "height": 265
        },
        "id": "JK18Vq0jpuOe",
        "outputId": "a3613e19-1138-4ef9-b498-0212687a1f22"
      },
      "source": [
        "with torch.no_grad():\n",
        "    plt.plot(xt.cpu()[0, :, 0], yt.cpu()[0, :, 0])"
      ],
      "execution_count": null,
      "outputs": [
        {
          "output_type": "display_data",
          "data": {
            "image/png": "[encoded data removed]",
            "text/plain": [
              "<Figure size 432x288 with 1 Axes>"
            ]
          },
          "metadata": {
            "tags": [],
            "needs_background": "light"
          }
        }
      ]
    },
    {
      "cell_type": "code",
      "metadata": {
        "colab": {
          "base_uri": "https://localhost:8080/",
          "height": 283
        },
        "id": "Vvbm784npB_g",
        "outputId": "ce9cea07-6666-494a-9459-18cb0de49088"
      },
      "source": [
        "plt.plot(yt.squeeze().cpu().detach())"
      ],
      "execution_count": null,
      "outputs": [
        {
          "output_type": "execute_result",
          "data": {
            "text/plain": [
              "[<matplotlib.lines.Line2D at 0x7f26f25e7cf8>]"
            ]
          },
          "metadata": {
            "tags": []
          },
          "execution_count": 110
        },
        {
          "output_type": "display_data",
          "data": {
            "image/png": "[encoded data removed]",
            "text/plain": [
              "<Figure size 432x288 with 1 Axes>"
            ]
          },
          "metadata": {
            "tags": [],
            "needs_background": "light"
          }
        }
      ]
    },
    {
      "cell_type": "code",
      "metadata": {
        "colab": {
          "base_uri": "https://localhost:8080/",
          "height": 283
        },
        "id": "VVEAoGTnojZE",
        "outputId": "c406983e-0313-463b-b8dd-832c742c4078"
      },
      "source": [
        "plt.plot(mu[0].cpu().detach())"
      ],
      "execution_count": null,
      "outputs": [
        {
          "output_type": "execute_result",
          "data": {
            "text/plain": [
              "[<matplotlib.lines.Line2D at 0x7f26f26ed780>]"
            ]
          },
          "metadata": {
            "tags": []
          },
          "execution_count": 102
        },
        {
          "output_type": "display_data",
          "data": {
            "image/png": "[encoded data removed]",
            "text/plain": [
              "<Figure size 432x288 with 1 Axes>"
            ]
          },
          "metadata": {
            "tags": [],
            "needs_background": "light"
          }
        }
      ]
    },
    {
      "cell_type": "code",
      "metadata": {
        "colab": {
          "base_uri": "https://localhost:8080/",
          "height": 283
        },
        "id": "GAv7QLwCHoY_",
        "outputId": "1f509674-e2db-49a4-c0e3-32d657feac43"
      },
      "source": [
        "plt.plot(mu.squeeze())"
      ],
      "execution_count": null,
      "outputs": [
        {
          "output_type": "execute_result",
          "data": {
            "text/plain": [
              "[<matplotlib.lines.Line2D at 0x7f5179bbc1d0>]"
            ]
          },
          "metadata": {
            "tags": []
          },
          "execution_count": 548
        },
        {
          "output_type": "display_data",
          "data": {
            "image/png": "[encoded data removed]",
            "text/plain": [
              "<Figure size 432x288 with 1 Axes>"
            ]
          },
          "metadata": {
            "tags": [],
            "needs_background": "light"
          }
        }
      ]
    },
    {
      "cell_type": "code",
      "metadata": {
        "colab": {
          "base_uri": "https://localhost:8080/"
        },
        "id": "IVf1S3Ydih87",
        "outputId": "708426fc-6a6b-43d8-b9ef-7313593263dc"
      },
      "source": [
        "x.shape, y.shape, xt.shape, yt.shape"
      ],
      "execution_count": null,
      "outputs": [
        {
          "output_type": "execute_result",
          "data": {
            "text/plain": [
              "(torch.Size([16, 36, 1]),\n",
              " torch.Size([16, 36, 1]),\n",
              " torch.Size([16, 37, 1]),\n",
              " torch.Size([16, 37, 1]))"
            ]
          },
          "metadata": {
            "tags": []
          },
          "execution_count": 453
        }
      ]
    },
    {
      "cell_type": "code",
      "metadata": {
        "id": "yF9_5G8AVHaj"
      },
      "source": [
        "break"
      ],
      "execution_count": null,
      "outputs": []
    },
    {
      "cell_type": "code",
      "metadata": {
        "id": "dnULECPlXz74"
      },
      "source": [
        "(mu, sig, distr), q = np(x, y, xt, yt)"
      ],
      "execution_count": null,
      "outputs": []
    },
    {
      "cell_type": "code",
      "metadata": {
        "colab": {
          "base_uri": "https://localhost:8080/"
        },
        "id": "7g7mm6va20Ew",
        "outputId": "32749bdc-6026-4e56-d203-aa246964eee0"
      },
      "source": [
        "mu.shape, sig.shape, distr"
      ],
      "execution_count": null,
      "outputs": [
        {
          "output_type": "execute_result",
          "data": {
            "text/plain": [
              "(torch.Size([16, 10, 37, 1]),\n",
              " torch.Size([16, 10, 37, 1]),\n",
              " Normal(loc: torch.Size([16, 10, 37, 1]), scale: torch.Size([16, 10, 37, 1])))"
            ]
          },
          "metadata": {
            "tags": []
          },
          "execution_count": 459
        }
      ]
    },
    {
      "cell_type": "code",
      "metadata": {
        "colab": {
          "base_uri": "https://localhost:8080/"
        },
        "id": "xtpOTxQ-5VUo",
        "outputId": "0105ae49-0067-4383-b751-df056806f5a0"
      },
      "source": [
        "yt.shape"
      ],
      "execution_count": null,
      "outputs": [
        {
          "output_type": "execute_result",
          "data": {
            "text/plain": [
              "torch.Size([16, 37, 1])"
            ]
          },
          "metadata": {
            "tags": []
          },
          "execution_count": 464
        }
      ]
    },
    {
      "cell_type": "code",
      "metadata": {
        "id": "gDRnA4Fc41Pq"
      },
      "source": [
        "yt = yt[:, None, :, :].expand(-1, 10, -1, -1)\n",
        "distr.log_prob(yt).sum(dim=2, keepdims=True).mean(dim=1).shape\n",
        "distr.log_prob(yt).mean(dim=1) - distributions.kl_divergence(prior, posterior)"
      ],
      "execution_count": null,
      "outputs": []
    },
    {
      "cell_type": "code",
      "metadata": {
        "colab": {
          "base_uri": "https://localhost:8080/"
        },
        "id": "yypvpb8p6W4G",
        "outputId": "ff12e434-febc-4ffc-99d4-46d7cbabfb27"
      },
      "source": [
        "yt.shape"
      ],
      "execution_count": null,
      "outputs": [
        {
          "output_type": "execute_result",
          "data": {
            "text/plain": [
              "torch.Size([16, 10, 37, 1])"
            ]
          },
          "metadata": {
            "tags": []
          },
          "execution_count": 470
        }
      ]
    },
    {
      "cell_type": "code",
      "metadata": {
        "colab": {
          "base_uri": "https://localhost:8080/"
        },
        "id": "psCwfvBk0PB-",
        "outputId": "2776f09f-74ad-4c70-e56d-be167a52c3a6"
      },
      "source": [
        "distr.log_prob(yt).mean(dim=1, keepdims=True).shape"
      ],
      "execution_count": null,
      "outputs": [
        {
          "output_type": "execute_result",
          "data": {
            "text/plain": [
              "torch.Size([16, 1, 37, 1])"
            ]
          },
          "metadata": {
            "tags": []
          },
          "execution_count": 469
        }
      ]
    },
    {
      "cell_type": "code",
      "metadata": {
        "id": "gGCdV6uOzyHS"
      },
      "source": [
        "prior, posterior = q[0], q[1]"
      ],
      "execution_count": null,
      "outputs": []
    },
    {
      "cell_type": "code",
      "metadata": {
        "colab": {
          "base_uri": "https://localhost:8080/"
        },
        "id": "zGxEJF4s9k7Q",
        "outputId": "0582d63c-8bf0-4169-c60a-7a21b1e67c31"
      },
      "source": [
        "distr.log_prob(yt).sum(dim=2).mean(dim=1).shape"
      ],
      "execution_count": null,
      "outputs": [
        {
          "output_type": "execute_result",
          "data": {
            "text/plain": [
              "torch.Size([16, 1])"
            ]
          },
          "metadata": {
            "tags": []
          },
          "execution_count": 481
        }
      ]
    },
    {
      "cell_type": "code",
      "metadata": {
        "id": "10pT8wlBz2dF"
      },
      "source": [
        "r = distr.log_prob(yt).sum(dim=2).mean(dim=1) - distributions.kl_divergence(prior, posterior)"
      ],
      "execution_count": null,
      "outputs": []
    },
    {
      "cell_type": "code",
      "metadata": {
        "colab": {
          "base_uri": "https://localhost:8080/"
        },
        "id": "TzIiv7aMAKkt",
        "outputId": "94148359-b77c-4436-ca41-22abc8d0597d"
      },
      "source": [
        "r.shape"
      ],
      "execution_count": null,
      "outputs": [
        {
          "output_type": "execute_result",
          "data": {
            "text/plain": [
              "torch.Size([16, 16])"
            ]
          },
          "metadata": {
            "tags": []
          },
          "execution_count": 480
        }
      ]
    },
    {
      "cell_type": "code",
      "metadata": {
        "colab": {
          "base_uri": "https://localhost:8080/"
        },
        "id": "kICDX8E46hCD",
        "outputId": "19165d68-34d7-4b93-f780-c92f588a38cb"
      },
      "source": [
        "x.shape, y.shape"
      ],
      "execution_count": null,
      "outputs": [
        {
          "output_type": "execute_result",
          "data": {
            "text/plain": [
              "(torch.Size([14, 1]), torch.Size([14, 1]))"
            ]
          },
          "metadata": {
            "tags": []
          },
          "execution_count": 255
        }
      ]
    },
    {
      "cell_type": "code",
      "metadata": {
        "id": "oJCdiQlmZB4l"
      },
      "source": [],
      "execution_count": null,
      "outputs": []
    },
    {
      "cell_type": "code",
      "metadata": {
        "id": "fU7vJAns6IiI"
      },
      "source": [
        "x = torch.rand(2, 4, 1)\n",
        "y = torch.rand(2, 4, 1)\n",
        "mu, sig, d = np._encoder(x, y)"
      ],
      "execution_count": null,
      "outputs": []
    },
    {
      "cell_type": "code",
      "metadata": {
        "colab": {
          "base_uri": "https://localhost:8080/"
        },
        "id": "N2lkq2jwxi8W",
        "outputId": "b8cbeebb-e46b-4bcc-8644-dd47262790b5"
      },
      "source": [
        "mu.shape, sig.shape"
      ],
      "execution_count": null,
      "outputs": [
        {
          "output_type": "execute_result",
          "data": {
            "text/plain": [
              "(torch.Size([2, 3]), torch.Size([2, 3]))"
            ]
          },
          "metadata": {
            "tags": []
          },
          "execution_count": 412
        }
      ]
    },
    {
      "cell_type": "code",
      "metadata": {
        "colab": {
          "base_uri": "https://localhost:8080/"
        },
        "id": "2yw7oniwxkJU",
        "outputId": "005d85ea-7203-44d8-e55b-ebdf0e5042df"
      },
      "source": [
        "sig.diag_embed().tril()"
      ],
      "execution_count": null,
      "outputs": [
        {
          "output_type": "execute_result",
          "data": {
            "text/plain": [
              "tensor([[[0.5865, 0.0000, 0.0000],\n",
              "         [0.0000, 0.5026, 0.0000],\n",
              "         [0.0000, 0.0000, 0.5089]],\n",
              "\n",
              "        [[0.5879, 0.0000, 0.0000],\n",
              "         [0.0000, 0.5027, 0.0000],\n",
              "         [0.0000, 0.0000, 0.5094]]], grad_fn=<TrilBackward>)"
            ]
          },
          "metadata": {
            "tags": []
          },
          "execution_count": 416
        }
      ]
    },
    {
      "cell_type": "code",
      "metadata": {
        "id": "sDZexuPCyYAT"
      },
      "source": [
        "d2 = distributions.MultivariateNormal(mu, sig.diag_embed().tril())"
      ],
      "execution_count": null,
      "outputs": []
    },
    {
      "cell_type": "code",
      "metadata": {
        "colab": {
          "base_uri": "https://localhost:8080/"
        },
        "id": "vfnkaH2x6MT4",
        "outputId": "dda858ec-8db6-490b-bbe4-dbf19073dc53"
      },
      "source": [
        "d"
      ],
      "execution_count": null,
      "outputs": [
        {
          "output_type": "execute_result",
          "data": {
            "text/plain": [
              "Normal(loc: torch.Size([2, 3]), scale: torch.Size([2, 3]))"
            ]
          },
          "metadata": {
            "tags": []
          },
          "execution_count": 418
        }
      ]
    },
    {
      "cell_type": "code",
      "metadata": {
        "colab": {
          "base_uri": "https://localhost:8080/"
        },
        "id": "-rePjyuKyg22",
        "outputId": "47ffdf04-27db-46d6-fcce-a31ae40b968f"
      },
      "source": [
        "d2"
      ],
      "execution_count": null,
      "outputs": [
        {
          "output_type": "execute_result",
          "data": {
            "text/plain": [
              "MultivariateNormal(loc: torch.Size([2, 3]), covariance_matrix: torch.Size([2, 3, 3]))"
            ]
          },
          "metadata": {
            "tags": []
          },
          "execution_count": 419
        }
      ]
    },
    {
      "cell_type": "code",
      "metadata": {
        "colab": {
          "base_uri": "https://localhost:8080/"
        },
        "id": "yEHdXdXoaLxM",
        "outputId": "1916c05b-14db-4fea-d995-c3c2e8228471"
      },
      "source": [
        "d.sample([2]).shape"
      ],
      "execution_count": null,
      "outputs": [
        {
          "output_type": "execute_result",
          "data": {
            "text/plain": [
              "torch.Size([2, 2, 3])"
            ]
          },
          "metadata": {
            "tags": []
          },
          "execution_count": 420
        }
      ]
    },
    {
      "cell_type": "code",
      "metadata": {
        "colab": {
          "base_uri": "https://localhost:8080/"
        },
        "id": "BozYs2FEyjr1",
        "outputId": "1b0d575c-85ea-4508-affa-5c006e907704"
      },
      "source": [
        "d2.sample([2]).shape"
      ],
      "execution_count": null,
      "outputs": [
        {
          "output_type": "execute_result",
          "data": {
            "text/plain": [
              "torch.Size([2, 2, 3])"
            ]
          },
          "metadata": {
            "tags": []
          },
          "execution_count": 421
        }
      ]
    },
    {
      "cell_type": "code",
      "metadata": {
        "colab": {
          "base_uri": "https://localhost:8080/"
        },
        "id": "uaN0anvaWvcN",
        "outputId": "b9e6905a-c03c-4c34-d1b6-2170ed96cbe9"
      },
      "source": [
        "z = d.sample([2])\n",
        "z"
      ],
      "execution_count": null,
      "outputs": [
        {
          "output_type": "execute_result",
          "data": {
            "text/plain": [
              "tensor([[[-0.3735, -0.0674, -0.1993],\n",
              "         [-0.0414,  0.0989,  0.8341]],\n",
              "\n",
              "        [[ 0.4983, -0.3781,  0.0610],\n",
              "         [-0.0983,  0.0921, -1.3146]]])"
            ]
          },
          "metadata": {
            "tags": []
          },
          "execution_count": 289
        }
      ]
    },
    {
      "cell_type": "code",
      "metadata": {
        "colab": {
          "base_uri": "https://localhost:8080/"
        },
        "id": "AxNIb65gXz6b",
        "outputId": "2e00b014-5524-4b0b-e897-b3c3188a231b"
      },
      "source": [
        "print(z.shape)"
      ],
      "execution_count": null,
      "outputs": [
        {
          "output_type": "stream",
          "text": [
            "torch.Size([2, 2, 3])\n"
          ],
          "name": "stdout"
        }
      ]
    },
    {
      "cell_type": "code",
      "metadata": {
        "colab": {
          "base_uri": "https://localhost:8080/"
        },
        "id": "NIpG28N-ZTkD",
        "outputId": "58f98e96-6360-4fbd-b6f8-b1b7a94b1a7b"
      },
      "source": [
        "z = z[:, :, None, :].expand(-1, 2, 4, -1)\n",
        "z"
      ],
      "execution_count": null,
      "outputs": [
        {
          "output_type": "execute_result",
          "data": {
            "text/plain": [
              "tensor([[[[-0.3735, -0.0674, -0.1993],\n",
              "          [-0.3735, -0.0674, -0.1993],\n",
              "          [-0.3735, -0.0674, -0.1993],\n",
              "          [-0.3735, -0.0674, -0.1993]],\n",
              "\n",
              "         [[-0.0414,  0.0989,  0.8341],\n",
              "          [-0.0414,  0.0989,  0.8341],\n",
              "          [-0.0414,  0.0989,  0.8341],\n",
              "          [-0.0414,  0.0989,  0.8341]]],\n",
              "\n",
              "\n",
              "        [[[ 0.4983, -0.3781,  0.0610],\n",
              "          [ 0.4983, -0.3781,  0.0610],\n",
              "          [ 0.4983, -0.3781,  0.0610],\n",
              "          [ 0.4983, -0.3781,  0.0610]],\n",
              "\n",
              "         [[-0.0983,  0.0921, -1.3146],\n",
              "          [-0.0983,  0.0921, -1.3146],\n",
              "          [-0.0983,  0.0921, -1.3146],\n",
              "          [-0.0983,  0.0921, -1.3146]]]])"
            ]
          },
          "metadata": {
            "tags": []
          },
          "execution_count": 291
        }
      ]
    },
    {
      "cell_type": "code",
      "metadata": {
        "colab": {
          "base_uri": "https://localhost:8080/"
        },
        "id": "DuYux49oacsP",
        "outputId": "d93163e3-f969-492b-df34-194b7a3ea1a9"
      },
      "source": [
        "x.shape, z.shape"
      ],
      "execution_count": null,
      "outputs": [
        {
          "output_type": "execute_result",
          "data": {
            "text/plain": [
              "(torch.Size([2, 4, 1]), torch.Size([2, 2, 4, 3]))"
            ]
          },
          "metadata": {
            "tags": []
          },
          "execution_count": 294
        }
      ]
    },
    {
      "cell_type": "code",
      "metadata": {
        "colab": {
          "base_uri": "https://localhost:8080/"
        },
        "id": "tJ590ATGdoHH",
        "outputId": "e3b479ba-1749-4027-b68f-4716f1e0fc18"
      },
      "source": [
        "x[None, :, :, :].expand(2, -1, -1, -1)"
      ],
      "execution_count": null,
      "outputs": [
        {
          "output_type": "execute_result",
          "data": {
            "text/plain": [
              "tensor([[[[0.2356],\n",
              "          [0.8175],\n",
              "          [0.7516],\n",
              "          [0.6727]],\n",
              "\n",
              "         [[0.3648],\n",
              "          [0.4258],\n",
              "          [0.1362],\n",
              "          [0.3602]]],\n",
              "\n",
              "\n",
              "        [[[0.2356],\n",
              "          [0.8175],\n",
              "          [0.7516],\n",
              "          [0.6727]],\n",
              "\n",
              "         [[0.3648],\n",
              "          [0.4258],\n",
              "          [0.1362],\n",
              "          [0.3602]]]])"
            ]
          },
          "metadata": {
            "tags": []
          },
          "execution_count": 302
        }
      ]
    },
    {
      "cell_type": "code",
      "metadata": {
        "colab": {
          "base_uri": "https://localhost:8080/"
        },
        "id": "WPvOfw_3BZZl",
        "outputId": "f2336399-e00a-47ef-ab18-e02b39bdabc4"
      },
      "source": [
        "z = z.permute(1, 0, 2, 3)\n",
        "z.shape"
      ],
      "execution_count": null,
      "outputs": [
        {
          "output_type": "execute_result",
          "data": {
            "text/plain": [
              "torch.Size([2, 2, 4, 3])"
            ]
          },
          "metadata": {
            "tags": []
          },
          "execution_count": 300
        }
      ]
    },
    {
      "cell_type": "code",
      "metadata": {
        "colab": {
          "base_uri": "https://localhost:8080/"
        },
        "id": "6lGAXfPRXIwD",
        "outputId": "015d576c-d3e5-4145-89dc-c6a101d0c5f4"
      },
      "source": [
        "torch.cat((x[None, :, :, :].expand(2, -1, -1, -1), z), dim=-1)"
      ],
      "execution_count": null,
      "outputs": [
        {
          "output_type": "execute_result",
          "data": {
            "text/plain": [
              "tensor([[[[ 0.2356, -0.3735, -0.0674, -0.1993],\n",
              "          [ 0.8175, -0.3735, -0.0674, -0.1993],\n",
              "          [ 0.7516, -0.3735, -0.0674, -0.1993],\n",
              "          [ 0.6727, -0.3735, -0.0674, -0.1993]],\n",
              "\n",
              "         [[ 0.3648,  0.4983, -0.3781,  0.0610],\n",
              "          [ 0.4258,  0.4983, -0.3781,  0.0610],\n",
              "          [ 0.1362,  0.4983, -0.3781,  0.0610],\n",
              "          [ 0.3602,  0.4983, -0.3781,  0.0610]]],\n",
              "\n",
              "\n",
              "        [[[ 0.2356, -0.0414,  0.0989,  0.8341],\n",
              "          [ 0.8175, -0.0414,  0.0989,  0.8341],\n",
              "          [ 0.7516, -0.0414,  0.0989,  0.8341],\n",
              "          [ 0.6727, -0.0414,  0.0989,  0.8341]],\n",
              "\n",
              "         [[ 0.3648, -0.0983,  0.0921, -1.3146],\n",
              "          [ 0.4258, -0.0983,  0.0921, -1.3146],\n",
              "          [ 0.1362, -0.0983,  0.0921, -1.3146],\n",
              "          [ 0.3602, -0.0983,  0.0921, -1.3146]]]])"
            ]
          },
          "metadata": {
            "tags": []
          },
          "execution_count": 303
        }
      ]
    },
    {
      "cell_type": "code",
      "metadata": {
        "id": "6c2V3Ilh_7Ny"
      },
      "source": [
        "x = torch.rand(3, 4, 1)\n",
        "y = torch.rand(3, 4, 1)\n",
        "xt = torch.rand(3, 5, 1)\n",
        "yt = torch.rand(3, 5, 1)"
      ],
      "execution_count": null,
      "outputs": []
    },
    {
      "cell_type": "code",
      "metadata": {
        "id": "ee_757ycfauW"
      },
      "source": [
        "p = np._encoder(x, y)\n",
        "q = np._encoder(xt, yt)"
      ],
      "execution_count": null,
      "outputs": []
    },
    {
      "cell_type": "code",
      "metadata": {
        "colab": {
          "base_uri": "https://localhost:8080/"
        },
        "id": "jyaxJbuYgkRo",
        "outputId": "5178bd1e-4728-4d18-f5e6-679f279799be"
      },
      "source": [
        "p"
      ],
      "execution_count": null,
      "outputs": [
        {
          "output_type": "execute_result",
          "data": {
            "text/plain": [
              "Normal(loc: torch.Size([3, 3]), scale: torch.Size([3, 3]))"
            ]
          },
          "metadata": {
            "tags": []
          },
          "execution_count": 369
        }
      ]
    },
    {
      "cell_type": "code",
      "metadata": {
        "colab": {
          "base_uri": "https://localhost:8080/"
        },
        "id": "CHMVyXyKgk2J",
        "outputId": "44f49e6e-5514-4c13-df13-df44f45650ad"
      },
      "source": [
        "q"
      ],
      "execution_count": null,
      "outputs": [
        {
          "output_type": "execute_result",
          "data": {
            "text/plain": [
              "Normal(loc: torch.Size([3, 3]), scale: torch.Size([3, 3]))"
            ]
          },
          "metadata": {
            "tags": []
          },
          "execution_count": 370
        }
      ]
    },
    {
      "cell_type": "code",
      "metadata": {
        "colab": {
          "base_uri": "https://localhost:8080/"
        },
        "id": "d1SfvfSGhdR8",
        "outputId": "55fa6695-0131-401c-ab63-50d5d967608a"
      },
      "source": [
        "distributions.kl_divergence(p, q)"
      ],
      "execution_count": null,
      "outputs": [
        {
          "output_type": "execute_result",
          "data": {
            "text/plain": [
              "tensor([[2.4852e-06, 3.8621e-05, 1.0211e-05],\n",
              "        [3.4142e-04, 7.5310e-05, 3.1185e-04],\n",
              "        [5.9038e-04, 2.5520e-04, 6.9835e-04]], grad_fn=<MulBackward0>)"
            ]
          },
          "metadata": {
            "tags": []
          },
          "execution_count": 371
        }
      ]
    },
    {
      "cell_type": "code",
      "metadata": {
        "colab": {
          "base_uri": "https://localhost:8080/"
        },
        "id": "MSfrlIDGfhsM",
        "outputId": "55321e5a-7a4a-4ad6-ec51-767f82e8a160"
      },
      "source": [
        "z = q.sample([2])\n",
        "z"
      ],
      "execution_count": null,
      "outputs": [
        {
          "output_type": "execute_result",
          "data": {
            "text/plain": [
              "tensor([[[-0.3538, -0.4964, -0.6820],\n",
              "         [-0.6174,  0.4985, -0.3972],\n",
              "         [-0.5295,  0.6884,  0.3467]],\n",
              "\n",
              "        [[-0.3209, -0.0048,  0.1731],\n",
              "         [ 0.4810, -0.6156,  0.2947],\n",
              "         [ 0.4999,  0.5842, -0.5677]]])"
            ]
          },
          "metadata": {
            "tags": []
          },
          "execution_count": 382
        }
      ]
    },
    {
      "cell_type": "code",
      "metadata": {
        "colab": {
          "base_uri": "https://localhost:8080/"
        },
        "id": "tARaN2aRfqnX",
        "outputId": "90e6250c-f841-4543-dc61-4cefefb043c7"
      },
      "source": [
        "z.shape, xt.shape"
      ],
      "execution_count": null,
      "outputs": [
        {
          "output_type": "execute_result",
          "data": {
            "text/plain": [
              "(torch.Size([2, 3, 3]), torch.Size([3, 5, 1]))"
            ]
          },
          "metadata": {
            "tags": []
          },
          "execution_count": 383
        }
      ]
    },
    {
      "cell_type": "code",
      "metadata": {
        "id": "e6I7eHdVkjUW"
      },
      "source": [
        "z = z[:, :, None, :].expand(-1, -1, xt.shape[1], -1)"
      ],
      "execution_count": null,
      "outputs": []
    },
    {
      "cell_type": "code",
      "metadata": {
        "colab": {
          "base_uri": "https://localhost:8080/"
        },
        "id": "6x6gZpp1leat",
        "outputId": "8dd83a52-b802-4dce-f792-0b6c3c6fbcfd"
      },
      "source": [
        "z.shape"
      ],
      "execution_count": null,
      "outputs": [
        {
          "output_type": "execute_result",
          "data": {
            "text/plain": [
              "torch.Size([3, 2, 5, 3])"
            ]
          },
          "metadata": {
            "tags": []
          },
          "execution_count": 389
        }
      ]
    },
    {
      "cell_type": "code",
      "metadata": {
        "id": "GfvouuPuk3J_"
      },
      "source": [
        "z = z.permute(1, 0, 2, 3)"
      ],
      "execution_count": null,
      "outputs": []
    },
    {
      "cell_type": "code",
      "metadata": {
        "colab": {
          "base_uri": "https://localhost:8080/"
        },
        "id": "cgSMq4Y_lxf0",
        "outputId": "85dc15d4-e8f2-45eb-d402-ff449a75db0d"
      },
      "source": [
        "xt.shape"
      ],
      "execution_count": null,
      "outputs": [
        {
          "output_type": "execute_result",
          "data": {
            "text/plain": [
              "torch.Size([3, 5, 1])"
            ]
          },
          "metadata": {
            "tags": []
          },
          "execution_count": 390
        }
      ]
    },
    {
      "cell_type": "code",
      "metadata": {
        "id": "LfFLwSb4f4eq"
      },
      "source": [
        "#z = z[:, :, None, :].expand(-1, -1, xt.shape[1], -1)\n",
        "xt = xt[:, None, :, :].expand(-1, 2, -1, -1)"
      ],
      "execution_count": null,
      "outputs": []
    },
    {
      "cell_type": "code",
      "metadata": {
        "colab": {
          "base_uri": "https://localhost:8080/"
        },
        "id": "1fnLVk_kgvu9",
        "outputId": "9344f0f1-3877-480a-96c4-111ee217021d"
      },
      "source": [
        "xt.shape, z.shape"
      ],
      "execution_count": null,
      "outputs": [
        {
          "output_type": "execute_result",
          "data": {
            "text/plain": [
              "(torch.Size([3, 2, 5, 1]), torch.Size([3, 2, 5, 3]))"
            ]
          },
          "metadata": {
            "tags": []
          },
          "execution_count": 392
        }
      ]
    },
    {
      "cell_type": "code",
      "metadata": {
        "id": "MjPhJo2izCjW"
      },
      "source": [
        "np(x, y, xt, yt)"
      ],
      "execution_count": null,
      "outputs": []
    },
    {
      "cell_type": "code",
      "metadata": {
        "colab": {
          "base_uri": "https://localhost:8080/"
        },
        "id": "he8W_PsAgQQP",
        "outputId": "959ecb7a-b63c-4611-fe58-70c0d72222a3"
      },
      "source": [
        "xt"
      ],
      "execution_count": null,
      "outputs": [
        {
          "output_type": "execute_result",
          "data": {
            "text/plain": [
              "tensor([[[[0.5739],\n",
              "          [0.1020],\n",
              "          [0.5454],\n",
              "          [0.3878],\n",
              "          [0.3258]],\n",
              "\n",
              "         [[0.5739],\n",
              "          [0.1020],\n",
              "          [0.5454],\n",
              "          [0.3878],\n",
              "          [0.3258]]],\n",
              "\n",
              "\n",
              "        [[[0.2798],\n",
              "          [0.9200],\n",
              "          [0.1443],\n",
              "          [0.8258],\n",
              "          [0.7651]],\n",
              "\n",
              "         [[0.2798],\n",
              "          [0.9200],\n",
              "          [0.1443],\n",
              "          [0.8258],\n",
              "          [0.7651]]],\n",
              "\n",
              "\n",
              "        [[[0.7097],\n",
              "          [0.7061],\n",
              "          [0.4217],\n",
              "          [0.8048],\n",
              "          [0.5592]],\n",
              "\n",
              "         [[0.7097],\n",
              "          [0.7061],\n",
              "          [0.4217],\n",
              "          [0.8048],\n",
              "          [0.5592]]]])"
            ]
          },
          "metadata": {
            "tags": []
          },
          "execution_count": 393
        }
      ]
    },
    {
      "cell_type": "code",
      "metadata": {
        "colab": {
          "base_uri": "https://localhost:8080/"
        },
        "id": "2uK05g0vm16a",
        "outputId": "56cede54-4a53-4c9b-f7cf-1f8acf094a10"
      },
      "source": [
        "xz = torch.cat((xt, z), dim=-1)"
      ],
      "execution_count": null,
      "outputs": [
        {
          "output_type": "execute_result",
          "data": {
            "text/plain": [
              "tensor([[[[ 0.5739, -0.3538, -0.4964, -0.6820],\n",
              "          [ 0.1020, -0.3538, -0.4964, -0.6820],\n",
              "          [ 0.5454, -0.3538, -0.4964, -0.6820],\n",
              "          [ 0.3878, -0.3538, -0.4964, -0.6820],\n",
              "          [ 0.3258, -0.3538, -0.4964, -0.6820]],\n",
              "\n",
              "         [[ 0.5739, -0.3209, -0.0048,  0.1731],\n",
              "          [ 0.1020, -0.3209, -0.0048,  0.1731],\n",
              "          [ 0.5454, -0.3209, -0.0048,  0.1731],\n",
              "          [ 0.3878, -0.3209, -0.0048,  0.1731],\n",
              "          [ 0.3258, -0.3209, -0.0048,  0.1731]]],\n",
              "\n",
              "\n",
              "        [[[ 0.2798, -0.6174,  0.4985, -0.3972],\n",
              "          [ 0.9200, -0.6174,  0.4985, -0.3972],\n",
              "          [ 0.1443, -0.6174,  0.4985, -0.3972],\n",
              "          [ 0.8258, -0.6174,  0.4985, -0.3972],\n",
              "          [ 0.7651, -0.6174,  0.4985, -0.3972]],\n",
              "\n",
              "         [[ 0.2798,  0.4810, -0.6156,  0.2947],\n",
              "          [ 0.9200,  0.4810, -0.6156,  0.2947],\n",
              "          [ 0.1443,  0.4810, -0.6156,  0.2947],\n",
              "          [ 0.8258,  0.4810, -0.6156,  0.2947],\n",
              "          [ 0.7651,  0.4810, -0.6156,  0.2947]]],\n",
              "\n",
              "\n",
              "        [[[ 0.7097, -0.5295,  0.6884,  0.3467],\n",
              "          [ 0.7061, -0.5295,  0.6884,  0.3467],\n",
              "          [ 0.4217, -0.5295,  0.6884,  0.3467],\n",
              "          [ 0.8048, -0.5295,  0.6884,  0.3467],\n",
              "          [ 0.5592, -0.5295,  0.6884,  0.3467]],\n",
              "\n",
              "         [[ 0.7097,  0.4999,  0.5842, -0.5677],\n",
              "          [ 0.7061,  0.4999,  0.5842, -0.5677],\n",
              "          [ 0.4217,  0.4999,  0.5842, -0.5677],\n",
              "          [ 0.8048,  0.4999,  0.5842, -0.5677],\n",
              "          [ 0.5592,  0.4999,  0.5842, -0.5677]]]])"
            ]
          },
          "metadata": {
            "tags": []
          },
          "execution_count": 394
        }
      ]
    },
    {
      "cell_type": "code",
      "metadata": {
        "id": "2viSDYl0n1qU"
      },
      "source": [
        "mu, sig, distr = np._decoder(xt, z)"
      ],
      "execution_count": null,
      "outputs": []
    },
    {
      "cell_type": "code",
      "metadata": {
        "colab": {
          "base_uri": "https://localhost:8080/"
        },
        "id": "3XEsnOB_vylX",
        "outputId": "02ba8c15-9cdf-4a5a-a760-3a54807f748f"
      },
      "source": [
        "distributions.kl_divergence(p, q).shape"
      ],
      "execution_count": null,
      "outputs": [
        {
          "output_type": "execute_result",
          "data": {
            "text/plain": [
              "torch.Size([3, 3])"
            ]
          },
          "metadata": {
            "tags": []
          },
          "execution_count": 404
        }
      ]
    },
    {
      "cell_type": "code",
      "metadata": {
        "id": "JRobVinW7PPr"
      },
      "source": [
        "x, y, xt, yt = train_list[0]\r\n",
        "# (mu, sigma, distr), q = np(x, y, xt)"
      ],
      "execution_count": null,
      "outputs": []
    },
    {
      "cell_type": "code",
      "metadata": {
        "colab": {
          "base_uri": "https://localhost:8080/",
          "height": 283
        },
        "id": "ZqT-2EkvX7cU",
        "outputId": "8c0d84a8-a056-46e8-f621-c9b240959323"
      },
      "source": [
        "plt.plot(x.cpu(), y.cpu(), 'b')"
      ],
      "execution_count": null,
      "outputs": [
        {
          "output_type": "execute_result",
          "data": {
            "text/plain": [
              "[<matplotlib.lines.Line2D at 0x7fb3d6cc1a20>]"
            ]
          },
          "metadata": {
            "tags": []
          },
          "execution_count": 116
        },
        {
          "output_type": "display_data",
          "data": {
            "image/png": "[encoded data removed]",
            "text/plain": [
              "<Figure size 432x288 with 1 Axes>"
            ]
          },
          "metadata": {
            "tags": [],
            "needs_background": "light"
          }
        }
      ]
    },
    {
      "cell_type": "code",
      "metadata": {
        "colab": {
          "base_uri": "https://localhost:8080/",
          "height": 283
        },
        "id": "UheGs13B8MM1",
        "outputId": "9234907c-b06a-4338-8457-295c44350bfa"
      },
      "source": [
        "plt.plot(xt.cpu(), yt.cpu(), 'ko')"
      ],
      "execution_count": null,
      "outputs": [
        {
          "output_type": "execute_result",
          "data": {
            "text/plain": [
              "[<matplotlib.lines.Line2D at 0x7fb3d735d7f0>]"
            ]
          },
          "metadata": {
            "tags": []
          },
          "execution_count": 112
        },
        {
          "output_type": "display_data",
          "data": {
            "image/png": "[encoded data removed]",
            "text/plain": [
              "<Figure size 432x288 with 1 Axes>"
            ]
          },
          "metadata": {
            "tags": [],
            "needs_background": "light"
          }
        }
      ]
    },
    {
      "cell_type": "code",
      "metadata": {
        "colab": {
          "base_uri": "https://localhost:8080/",
          "height": 266
        },
        "id": "wsqCMU3o7mLv",
        "outputId": "4123c97d-d92e-4dee-e3d2-0df74d624995"
      },
      "source": [
        "with torch.no_grad():\r\n",
        "  plt.plot(xt.cpu(), mu.mean(dim=0).cpu(), 'ko')"
      ],
      "execution_count": null,
      "outputs": [
        {
          "output_type": "display_data",
          "data": {
            "image/png": "[encoded data removed]",
            "text/plain": [
              "<Figure size 432x288 with 1 Axes>"
            ]
          },
          "metadata": {
            "tags": [],
            "needs_background": "light"
          }
        }
      ]
    },
    {
      "cell_type": "code",
      "metadata": {
        "colab": {
          "base_uri": "https://localhost:8080/",
          "height": 265
        },
        "id": "n3DyuqLEYqBs",
        "outputId": "0a4ca7a7-49c7-45b9-e3d3-df28cc2f1ddd"
      },
      "source": [
        "with torch.no_grad():\n",
        "  plt.plot(xt.cpu(), mu[10].cpu(), 'ko')"
      ],
      "execution_count": null,
      "outputs": [
        {
          "output_type": "display_data",
          "data": {
            "image/png": "[encoded data removed]",
            "text/plain": [
              "<Figure size 432x288 with 1 Axes>"
            ]
          },
          "metadata": {
            "tags": [],
            "needs_background": "light"
          }
        }
      ]
    },
    {
      "cell_type": "code",
      "metadata": {
        "colab": {
          "base_uri": "https://localhost:8080/",
          "height": 265
        },
        "id": "8qNcE8dy-9ga",
        "outputId": "beb8427a-7490-4aa5-9da6-19efe2822273"
      },
      "source": [
        "with torch.no_grad():\n",
        "  plt.plot(test_list[2].cpu(), test_list[3].cpu())"
      ],
      "execution_count": null,
      "outputs": [
        {
          "output_type": "display_data",
          "data": {
            "image/png": "[encoded data removed]",
            "text/plain": [
              "<Figure size 432x288 with 1 Axes>"
            ]
          },
          "metadata": {
            "tags": [],
            "needs_background": "light"
          }
        }
      ]
    },
    {
      "cell_type": "code",
      "metadata": {
        "colab": {
          "base_uri": "https://localhost:8080/",
          "height": 588
        },
        "id": "2MwSb8qf4IIO",
        "outputId": "b95235e0-7a8a-4fdb-e4a1-70d2602a5ca4"
      },
      "source": [
        "with torch.no_grad():\n",
        "  plt.plot(test_list[2].cpu(), mu[0].cpu())"
      ],
      "execution_count": null,
      "outputs": [
        {
          "output_type": "error",
          "ename": "ValueError",
          "evalue": "ignored",
          "traceback": [
            "\u001b[0;31m---------------------------------------------------------------------------\u001b[0m",
            "\u001b[0;31mValueError\u001b[0m                                Traceback (most recent call last)",
            "\u001b[0;32m<ipython-input-30-d653022c0a94>\u001b[0m in \u001b[0;36m<module>\u001b[0;34m()\u001b[0m\n\u001b[1;32m      1\u001b[0m \u001b[0;32mwith\u001b[0m \u001b[0mtorch\u001b[0m\u001b[0;34m.\u001b[0m\u001b[0mno_grad\u001b[0m\u001b[0;34m(\u001b[0m\u001b[0;34m)\u001b[0m\u001b[0;34m:\u001b[0m\u001b[0;34m\u001b[0m\u001b[0;34m\u001b[0m\u001b[0m\n\u001b[0;32m----> 2\u001b[0;31m   \u001b[0mplt\u001b[0m\u001b[0;34m.\u001b[0m\u001b[0mplot\u001b[0m\u001b[0;34m(\u001b[0m\u001b[0mtest_list\u001b[0m\u001b[0;34m[\u001b[0m\u001b[0;36m2\u001b[0m\u001b[0;34m]\u001b[0m\u001b[0;34m.\u001b[0m\u001b[0mcpu\u001b[0m\u001b[0;34m(\u001b[0m\u001b[0;34m)\u001b[0m\u001b[0;34m,\u001b[0m \u001b[0mmu\u001b[0m\u001b[0;34m[\u001b[0m\u001b[0;36m0\u001b[0m\u001b[0;34m]\u001b[0m\u001b[0;34m.\u001b[0m\u001b[0mcpu\u001b[0m\u001b[0;34m(\u001b[0m\u001b[0;34m)\u001b[0m\u001b[0;34m)\u001b[0m\u001b[0;34m\u001b[0m\u001b[0;34m\u001b[0m\u001b[0m\n\u001b[0m",
            "\u001b[0;32m/usr/local/lib/python3.6/dist-packages/matplotlib/pyplot.py\u001b[0m in \u001b[0;36mplot\u001b[0;34m(scalex, scaley, data, *args, **kwargs)\u001b[0m\n\u001b[1;32m   2761\u001b[0m     return gca().plot(\n\u001b[1;32m   2762\u001b[0m         *args, scalex=scalex, scaley=scaley, **({\"data\": data} if data\n\u001b[0;32m-> 2763\u001b[0;31m         is not None else {}), **kwargs)\n\u001b[0m\u001b[1;32m   2764\u001b[0m \u001b[0;34m\u001b[0m\u001b[0m\n\u001b[1;32m   2765\u001b[0m \u001b[0;34m\u001b[0m\u001b[0m\n",
            "\u001b[0;32m/usr/local/lib/python3.6/dist-packages/matplotlib/axes/_axes.py\u001b[0m in \u001b[0;36mplot\u001b[0;34m(self, scalex, scaley, data, *args, **kwargs)\u001b[0m\n\u001b[1;32m   1645\u001b[0m         \"\"\"\n\u001b[1;32m   1646\u001b[0m         \u001b[0mkwargs\u001b[0m \u001b[0;34m=\u001b[0m \u001b[0mcbook\u001b[0m\u001b[0;34m.\u001b[0m\u001b[0mnormalize_kwargs\u001b[0m\u001b[0;34m(\u001b[0m\u001b[0mkwargs\u001b[0m\u001b[0;34m,\u001b[0m \u001b[0mmlines\u001b[0m\u001b[0;34m.\u001b[0m\u001b[0mLine2D\u001b[0m\u001b[0;34m)\u001b[0m\u001b[0;34m\u001b[0m\u001b[0;34m\u001b[0m\u001b[0m\n\u001b[0;32m-> 1647\u001b[0;31m         \u001b[0mlines\u001b[0m \u001b[0;34m=\u001b[0m \u001b[0;34m[\u001b[0m\u001b[0;34m*\u001b[0m\u001b[0mself\u001b[0m\u001b[0;34m.\u001b[0m\u001b[0m_get_lines\u001b[0m\u001b[0;34m(\u001b[0m\u001b[0;34m*\u001b[0m\u001b[0margs\u001b[0m\u001b[0;34m,\u001b[0m \u001b[0mdata\u001b[0m\u001b[0;34m=\u001b[0m\u001b[0mdata\u001b[0m\u001b[0;34m,\u001b[0m \u001b[0;34m**\u001b[0m\u001b[0mkwargs\u001b[0m\u001b[0;34m)\u001b[0m\u001b[0;34m]\u001b[0m\u001b[0;34m\u001b[0m\u001b[0;34m\u001b[0m\u001b[0m\n\u001b[0m\u001b[1;32m   1648\u001b[0m         \u001b[0;32mfor\u001b[0m \u001b[0mline\u001b[0m \u001b[0;32min\u001b[0m \u001b[0mlines\u001b[0m\u001b[0;34m:\u001b[0m\u001b[0;34m\u001b[0m\u001b[0;34m\u001b[0m\u001b[0m\n\u001b[1;32m   1649\u001b[0m             \u001b[0mself\u001b[0m\u001b[0;34m.\u001b[0m\u001b[0madd_line\u001b[0m\u001b[0;34m(\u001b[0m\u001b[0mline\u001b[0m\u001b[0;34m)\u001b[0m\u001b[0;34m\u001b[0m\u001b[0;34m\u001b[0m\u001b[0m\n",
            "\u001b[0;32m/usr/local/lib/python3.6/dist-packages/matplotlib/axes/_base.py\u001b[0m in \u001b[0;36m__call__\u001b[0;34m(self, *args, **kwargs)\u001b[0m\n\u001b[1;32m    214\u001b[0m                 \u001b[0mthis\u001b[0m \u001b[0;34m+=\u001b[0m \u001b[0margs\u001b[0m\u001b[0;34m[\u001b[0m\u001b[0;36m0\u001b[0m\u001b[0;34m]\u001b[0m\u001b[0;34m,\u001b[0m\u001b[0;34m\u001b[0m\u001b[0;34m\u001b[0m\u001b[0m\n\u001b[1;32m    215\u001b[0m                 \u001b[0margs\u001b[0m \u001b[0;34m=\u001b[0m \u001b[0margs\u001b[0m\u001b[0;34m[\u001b[0m\u001b[0;36m1\u001b[0m\u001b[0;34m:\u001b[0m\u001b[0;34m]\u001b[0m\u001b[0;34m\u001b[0m\u001b[0;34m\u001b[0m\u001b[0m\n\u001b[0;32m--> 216\u001b[0;31m             \u001b[0;32myield\u001b[0m \u001b[0;32mfrom\u001b[0m \u001b[0mself\u001b[0m\u001b[0;34m.\u001b[0m\u001b[0m_plot_args\u001b[0m\u001b[0;34m(\u001b[0m\u001b[0mthis\u001b[0m\u001b[0;34m,\u001b[0m \u001b[0mkwargs\u001b[0m\u001b[0;34m)\u001b[0m\u001b[0;34m\u001b[0m\u001b[0;34m\u001b[0m\u001b[0m\n\u001b[0m\u001b[1;32m    217\u001b[0m \u001b[0;34m\u001b[0m\u001b[0m\n\u001b[1;32m    218\u001b[0m     \u001b[0;32mdef\u001b[0m \u001b[0mget_next_color\u001b[0m\u001b[0;34m(\u001b[0m\u001b[0mself\u001b[0m\u001b[0;34m)\u001b[0m\u001b[0;34m:\u001b[0m\u001b[0;34m\u001b[0m\u001b[0;34m\u001b[0m\u001b[0m\n",
            "\u001b[0;32m/usr/local/lib/python3.6/dist-packages/matplotlib/axes/_base.py\u001b[0m in \u001b[0;36m_plot_args\u001b[0;34m(self, tup, kwargs)\u001b[0m\n\u001b[1;32m    340\u001b[0m \u001b[0;34m\u001b[0m\u001b[0m\n\u001b[1;32m    341\u001b[0m         \u001b[0;32mif\u001b[0m \u001b[0mx\u001b[0m\u001b[0;34m.\u001b[0m\u001b[0mshape\u001b[0m\u001b[0;34m[\u001b[0m\u001b[0;36m0\u001b[0m\u001b[0;34m]\u001b[0m \u001b[0;34m!=\u001b[0m \u001b[0my\u001b[0m\u001b[0;34m.\u001b[0m\u001b[0mshape\u001b[0m\u001b[0;34m[\u001b[0m\u001b[0;36m0\u001b[0m\u001b[0;34m]\u001b[0m\u001b[0;34m:\u001b[0m\u001b[0;34m\u001b[0m\u001b[0;34m\u001b[0m\u001b[0m\n\u001b[0;32m--> 342\u001b[0;31m             raise ValueError(f\"x and y must have same first dimension, but \"\n\u001b[0m\u001b[1;32m    343\u001b[0m                              f\"have shapes {x.shape} and {y.shape}\")\n\u001b[1;32m    344\u001b[0m         \u001b[0;32mif\u001b[0m \u001b[0mx\u001b[0m\u001b[0;34m.\u001b[0m\u001b[0mndim\u001b[0m \u001b[0;34m>\u001b[0m \u001b[0;36m2\u001b[0m \u001b[0;32mor\u001b[0m \u001b[0my\u001b[0m\u001b[0;34m.\u001b[0m\u001b[0mndim\u001b[0m \u001b[0;34m>\u001b[0m \u001b[0;36m2\u001b[0m\u001b[0;34m:\u001b[0m\u001b[0;34m\u001b[0m\u001b[0;34m\u001b[0m\u001b[0m\n",
            "\u001b[0;31mValueError\u001b[0m: x and y must have same first dimension, but have shapes torch.Size([400, 1]) and torch.Size([22])"
          ]
        },
        {
          "output_type": "display_data",
          "data": {
            "image/png": "[encoded data removed]",
            "text/plain": [
              "<Figure size 432x288 with 1 Axes>"
            ]
          },
          "metadata": {
            "tags": [],
            "needs_background": "light"
          }
        }
      ]
    },
    {
      "cell_type": "code",
      "metadata": {
        "id": "LG3qCaRw-ykH"
      },
      "source": [
        "sigma[0].shape"
      ],
      "execution_count": null,
      "outputs": []
    },
    {
      "cell_type": "code",
      "metadata": {
        "id": "z5aZBz9h-r5N"
      },
      "source": [
        "plt.plot(sigma[0].cpu().detach())"
      ],
      "execution_count": null,
      "outputs": []
    },
    {
      "cell_type": "code",
      "metadata": {
        "id": "PwFi7EDJ4hnU"
      },
      "source": [
        "plt.plot(yt1)\n",
        "plt.plot(mu.mean(dim=0))"
      ],
      "execution_count": null,
      "outputs": []
    },
    {
      "cell_type": "code",
      "metadata": {
        "id": "mSbMk2-G5BdM"
      },
      "source": [
        "mu.mean(dim=1)"
      ],
      "execution_count": null,
      "outputs": []
    },
    {
      "cell_type": "code",
      "metadata": {
        "id": "RqgfmJyPEoUw"
      },
      "source": [
        "x, y, xt, yt = train_list[0]\n",
        "(mu, sig, distr), q = np(x, y, xt, yt)\n",
        "kl = distributions.kl_divergence(q[1], q[0])"
      ],
      "execution_count": null,
      "outputs": []
    },
    {
      "cell_type": "code",
      "metadata": {
        "id": "nJ9T5DlWxZut"
      },
      "source": [
        "x1, y1, xt1, yt1 = test_list"
      ],
      "execution_count": null,
      "outputs": []
    },
    {
      "cell_type": "code",
      "metadata": {
        "id": "gONmVY1gzln_"
      },
      "source": [
        "(mu, sig, distr), q = np(x1, y1, xt1)"
      ],
      "execution_count": null,
      "outputs": []
    },
    {
      "cell_type": "code",
      "metadata": {
        "id": "TxkUmTi81hpV"
      },
      "source": [
        "mu[0].shape"
      ],
      "execution_count": null,
      "outputs": []
    },
    {
      "cell_type": "code",
      "metadata": {
        "id": "P62-BVk71suI"
      },
      "source": [
        "yt1.shape"
      ],
      "execution_count": null,
      "outputs": []
    },
    {
      "cell_type": "code",
      "metadata": {
        "id": "MTITQx_i18Yy"
      },
      "source": [
        "mplt.plot(yt1)"
      ],
      "execution_count": null,
      "outputs": []
    },
    {
      "cell_type": "code",
      "metadata": {
        "id": "n8Lvyiih2XwC"
      },
      "source": [
        "mu.mean(dim=0)"
      ],
      "execution_count": null,
      "outputs": []
    },
    {
      "cell_type": "code",
      "metadata": {
        "id": "uUTfwOmYFMhz"
      },
      "source": [
        "plt.plot(mu.detach().mean(dim=0))"
      ],
      "execution_count": null,
      "outputs": []
    },
    {
      "cell_type": "code",
      "metadata": {
        "id": "Fleey_ssy_qD"
      },
      "source": [
        "plt.plot(xt, yt, 'k:')\n",
        "plt.plot(x, y, 'ko', markersize=10)"
      ],
      "execution_count": null,
      "outputs": []
    }
  ]
}