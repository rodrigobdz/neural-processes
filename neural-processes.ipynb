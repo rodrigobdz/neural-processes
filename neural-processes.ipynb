{
  "nbformat": 4,
  "nbformat_minor": 0,
  "metadata": {
    "colab": {
      "name": "neural_processes.ipynb",
      "provenance": [],
      "collapsed_sections": []
    },
    "kernelspec": {
      "display_name": "Python 3",
      "name": "python3"
    },
    "accelerator": "GPU",
    "widgets": {
      "application/vnd.jupyter.widget-state+json": {
        "fe129d4911b6423eafec569dc4a9f944": {
          "model_module": "@jupyter-widgets/controls",
          "model_name": "HBoxModel",
          "state": {
            "_view_name": "HBoxView",
            "_dom_classes": [],
            "_model_name": "HBoxModel",
            "_view_module": "@jupyter-widgets/controls",
            "_model_module_version": "1.5.0",
            "_view_count": null,
            "_view_module_version": "1.5.0",
            "box_style": "",
            "layout": "IPY_MODEL_e92509a516b74d6ca79c0340959020aa",
            "_model_module": "@jupyter-widgets/controls",
            "children": [
              "IPY_MODEL_fba73cec220b4932b2a0942d605c8509",
              "IPY_MODEL_cb9922cf74ee458dbb1ce1f80e6ff7e9"
            ]
          }
        },
        "e92509a516b74d6ca79c0340959020aa": {
          "model_module": "@jupyter-widgets/base",
          "model_name": "LayoutModel",
          "state": {
            "_view_name": "LayoutView",
            "grid_template_rows": null,
            "right": null,
            "justify_content": null,
            "_view_module": "@jupyter-widgets/base",
            "overflow": null,
            "_model_module_version": "1.2.0",
            "_view_count": null,
            "flex_flow": null,
            "width": null,
            "min_width": null,
            "border": null,
            "align_items": null,
            "bottom": null,
            "_model_module": "@jupyter-widgets/base",
            "top": null,
            "grid_column": null,
            "overflow_y": null,
            "overflow_x": null,
            "grid_auto_flow": null,
            "grid_area": null,
            "grid_template_columns": null,
            "flex": null,
            "_model_name": "LayoutModel",
            "justify_items": null,
            "grid_row": null,
            "max_height": null,
            "align_content": null,
            "visibility": null,
            "align_self": null,
            "height": null,
            "min_height": null,
            "padding": null,
            "grid_auto_rows": null,
            "grid_gap": null,
            "max_width": null,
            "order": null,
            "_view_module_version": "1.2.0",
            "grid_template_areas": null,
            "object_position": null,
            "object_fit": null,
            "grid_auto_columns": null,
            "margin": null,
            "display": null,
            "left": null
          }
        },
        "fba73cec220b4932b2a0942d605c8509": {
          "model_module": "@jupyter-widgets/controls",
          "model_name": "FloatProgressModel",
          "state": {
            "_view_name": "ProgressView",
            "style": "IPY_MODEL_e440fb6fe2b644fba677a3a9af50de0a",
            "_dom_classes": [],
            "description": "",
            "_model_name": "FloatProgressModel",
            "bar_style": "info",
            "max": 1,
            "_view_module": "@jupyter-widgets/controls",
            "_model_module_version": "1.5.0",
            "value": 1,
            "_view_count": null,
            "_view_module_version": "1.5.0",
            "orientation": "horizontal",
            "min": 0,
            "description_tooltip": null,
            "_model_module": "@jupyter-widgets/controls",
            "layout": "IPY_MODEL_a17afebd069844bf9c1c962399284f4a"
          }
        },
        "cb9922cf74ee458dbb1ce1f80e6ff7e9": {
          "model_module": "@jupyter-widgets/controls",
          "model_name": "HTMLModel",
          "state": {
            "_view_name": "HTMLView",
            "style": "IPY_MODEL_07aaa2db51c24df799dd305f569dc44e",
            "_dom_classes": [],
            "description": "",
            "_model_name": "HTMLModel",
            "placeholder": "​",
            "_view_module": "@jupyter-widgets/controls",
            "_model_module_version": "1.5.0",
            "value": " 9920512/? [00:20&lt;00:00, 181595.97it/s]",
            "_view_count": null,
            "_view_module_version": "1.5.0",
            "description_tooltip": null,
            "_model_module": "@jupyter-widgets/controls",
            "layout": "IPY_MODEL_f5688213bfa643bab258ceb281ffb749"
          }
        },
        "e440fb6fe2b644fba677a3a9af50de0a": {
          "model_module": "@jupyter-widgets/controls",
          "model_name": "ProgressStyleModel",
          "state": {
            "_view_name": "StyleView",
            "_model_name": "ProgressStyleModel",
            "description_width": "initial",
            "_view_module": "@jupyter-widgets/base",
            "_model_module_version": "1.5.0",
            "_view_count": null,
            "_view_module_version": "1.2.0",
            "bar_color": null,
            "_model_module": "@jupyter-widgets/controls"
          }
        },
        "a17afebd069844bf9c1c962399284f4a": {
          "model_module": "@jupyter-widgets/base",
          "model_name": "LayoutModel",
          "state": {
            "_view_name": "LayoutView",
            "grid_template_rows": null,
            "right": null,
            "justify_content": null,
            "_view_module": "@jupyter-widgets/base",
            "overflow": null,
            "_model_module_version": "1.2.0",
            "_view_count": null,
            "flex_flow": null,
            "width": null,
            "min_width": null,
            "border": null,
            "align_items": null,
            "bottom": null,
            "_model_module": "@jupyter-widgets/base",
            "top": null,
            "grid_column": null,
            "overflow_y": null,
            "overflow_x": null,
            "grid_auto_flow": null,
            "grid_area": null,
            "grid_template_columns": null,
            "flex": null,
            "_model_name": "LayoutModel",
            "justify_items": null,
            "grid_row": null,
            "max_height": null,
            "align_content": null,
            "visibility": null,
            "align_self": null,
            "height": null,
            "min_height": null,
            "padding": null,
            "grid_auto_rows": null,
            "grid_gap": null,
            "max_width": null,
            "order": null,
            "_view_module_version": "1.2.0",
            "grid_template_areas": null,
            "object_position": null,
            "object_fit": null,
            "grid_auto_columns": null,
            "margin": null,
            "display": null,
            "left": null
          }
        },
        "07aaa2db51c24df799dd305f569dc44e": {
          "model_module": "@jupyter-widgets/controls",
          "model_name": "DescriptionStyleModel",
          "state": {
            "_view_name": "StyleView",
            "_model_name": "DescriptionStyleModel",
            "description_width": "",
            "_view_module": "@jupyter-widgets/base",
            "_model_module_version": "1.5.0",
            "_view_count": null,
            "_view_module_version": "1.2.0",
            "_model_module": "@jupyter-widgets/controls"
          }
        },
        "f5688213bfa643bab258ceb281ffb749": {
          "model_module": "@jupyter-widgets/base",
          "model_name": "LayoutModel",
          "state": {
            "_view_name": "LayoutView",
            "grid_template_rows": null,
            "right": null,
            "justify_content": null,
            "_view_module": "@jupyter-widgets/base",
            "overflow": null,
            "_model_module_version": "1.2.0",
            "_view_count": null,
            "flex_flow": null,
            "width": null,
            "min_width": null,
            "border": null,
            "align_items": null,
            "bottom": null,
            "_model_module": "@jupyter-widgets/base",
            "top": null,
            "grid_column": null,
            "overflow_y": null,
            "overflow_x": null,
            "grid_auto_flow": null,
            "grid_area": null,
            "grid_template_columns": null,
            "flex": null,
            "_model_name": "LayoutModel",
            "justify_items": null,
            "grid_row": null,
            "max_height": null,
            "align_content": null,
            "visibility": null,
            "align_self": null,
            "height": null,
            "min_height": null,
            "padding": null,
            "grid_auto_rows": null,
            "grid_gap": null,
            "max_width": null,
            "order": null,
            "_view_module_version": "1.2.0",
            "grid_template_areas": null,
            "object_position": null,
            "object_fit": null,
            "grid_auto_columns": null,
            "margin": null,
            "display": null,
            "left": null
          }
        },
        "6b5b940155d04d49a5507df1cecf76fb": {
          "model_module": "@jupyter-widgets/controls",
          "model_name": "HBoxModel",
          "state": {
            "_view_name": "HBoxView",
            "_dom_classes": [],
            "_model_name": "HBoxModel",
            "_view_module": "@jupyter-widgets/controls",
            "_model_module_version": "1.5.0",
            "_view_count": null,
            "_view_module_version": "1.5.0",
            "box_style": "",
            "layout": "IPY_MODEL_13b031fb83434478a9e9eea629b76b74",
            "_model_module": "@jupyter-widgets/controls",
            "children": [
              "IPY_MODEL_756a0f9d55c444098a395d19592f07b4",
              "IPY_MODEL_eff81695d2b4442c92e9098e680d1810"
            ]
          }
        },
        "13b031fb83434478a9e9eea629b76b74": {
          "model_module": "@jupyter-widgets/base",
          "model_name": "LayoutModel",
          "state": {
            "_view_name": "LayoutView",
            "grid_template_rows": null,
            "right": null,
            "justify_content": null,
            "_view_module": "@jupyter-widgets/base",
            "overflow": null,
            "_model_module_version": "1.2.0",
            "_view_count": null,
            "flex_flow": null,
            "width": null,
            "min_width": null,
            "border": null,
            "align_items": null,
            "bottom": null,
            "_model_module": "@jupyter-widgets/base",
            "top": null,
            "grid_column": null,
            "overflow_y": null,
            "overflow_x": null,
            "grid_auto_flow": null,
            "grid_area": null,
            "grid_template_columns": null,
            "flex": null,
            "_model_name": "LayoutModel",
            "justify_items": null,
            "grid_row": null,
            "max_height": null,
            "align_content": null,
            "visibility": null,
            "align_self": null,
            "height": null,
            "min_height": null,
            "padding": null,
            "grid_auto_rows": null,
            "grid_gap": null,
            "max_width": null,
            "order": null,
            "_view_module_version": "1.2.0",
            "grid_template_areas": null,
            "object_position": null,
            "object_fit": null,
            "grid_auto_columns": null,
            "margin": null,
            "display": null,
            "left": null
          }
        },
        "756a0f9d55c444098a395d19592f07b4": {
          "model_module": "@jupyter-widgets/controls",
          "model_name": "FloatProgressModel",
          "state": {
            "_view_name": "ProgressView",
            "style": "IPY_MODEL_2e361a0fa2074722bcce5642e2b3b129",
            "_dom_classes": [],
            "description": "",
            "_model_name": "FloatProgressModel",
            "bar_style": "success",
            "max": 1,
            "_view_module": "@jupyter-widgets/controls",
            "_model_module_version": "1.5.0",
            "value": 1,
            "_view_count": null,
            "_view_module_version": "1.5.0",
            "orientation": "horizontal",
            "min": 0,
            "description_tooltip": null,
            "_model_module": "@jupyter-widgets/controls",
            "layout": "IPY_MODEL_9a17fe89248f444f8bf6d8e9460d4a77"
          }
        },
        "eff81695d2b4442c92e9098e680d1810": {
          "model_module": "@jupyter-widgets/controls",
          "model_name": "HTMLModel",
          "state": {
            "_view_name": "HTMLView",
            "style": "IPY_MODEL_5ca7d4324fc24bf585c136b4d45ab250",
            "_dom_classes": [],
            "description": "",
            "_model_name": "HTMLModel",
            "placeholder": "​",
            "_view_module": "@jupyter-widgets/controls",
            "_model_module_version": "1.5.0",
            "value": " 32768/? [00:00&lt;00:00, 352604.67it/s]",
            "_view_count": null,
            "_view_module_version": "1.5.0",
            "description_tooltip": null,
            "_model_module": "@jupyter-widgets/controls",
            "layout": "IPY_MODEL_afa7409b0bce47e299bb55b9b6ec2a7d"
          }
        },
        "2e361a0fa2074722bcce5642e2b3b129": {
          "model_module": "@jupyter-widgets/controls",
          "model_name": "ProgressStyleModel",
          "state": {
            "_view_name": "StyleView",
            "_model_name": "ProgressStyleModel",
            "description_width": "initial",
            "_view_module": "@jupyter-widgets/base",
            "_model_module_version": "1.5.0",
            "_view_count": null,
            "_view_module_version": "1.2.0",
            "bar_color": null,
            "_model_module": "@jupyter-widgets/controls"
          }
        },
        "9a17fe89248f444f8bf6d8e9460d4a77": {
          "model_module": "@jupyter-widgets/base",
          "model_name": "LayoutModel",
          "state": {
            "_view_name": "LayoutView",
            "grid_template_rows": null,
            "right": null,
            "justify_content": null,
            "_view_module": "@jupyter-widgets/base",
            "overflow": null,
            "_model_module_version": "1.2.0",
            "_view_count": null,
            "flex_flow": null,
            "width": null,
            "min_width": null,
            "border": null,
            "align_items": null,
            "bottom": null,
            "_model_module": "@jupyter-widgets/base",
            "top": null,
            "grid_column": null,
            "overflow_y": null,
            "overflow_x": null,
            "grid_auto_flow": null,
            "grid_area": null,
            "grid_template_columns": null,
            "flex": null,
            "_model_name": "LayoutModel",
            "justify_items": null,
            "grid_row": null,
            "max_height": null,
            "align_content": null,
            "visibility": null,
            "align_self": null,
            "height": null,
            "min_height": null,
            "padding": null,
            "grid_auto_rows": null,
            "grid_gap": null,
            "max_width": null,
            "order": null,
            "_view_module_version": "1.2.0",
            "grid_template_areas": null,
            "object_position": null,
            "object_fit": null,
            "grid_auto_columns": null,
            "margin": null,
            "display": null,
            "left": null
          }
        },
        "5ca7d4324fc24bf585c136b4d45ab250": {
          "model_module": "@jupyter-widgets/controls",
          "model_name": "DescriptionStyleModel",
          "state": {
            "_view_name": "StyleView",
            "_model_name": "DescriptionStyleModel",
            "description_width": "",
            "_view_module": "@jupyter-widgets/base",
            "_model_module_version": "1.5.0",
            "_view_count": null,
            "_view_module_version": "1.2.0",
            "_model_module": "@jupyter-widgets/controls"
          }
        },
        "afa7409b0bce47e299bb55b9b6ec2a7d": {
          "model_module": "@jupyter-widgets/base",
          "model_name": "LayoutModel",
          "state": {
            "_view_name": "LayoutView",
            "grid_template_rows": null,
            "right": null,
            "justify_content": null,
            "_view_module": "@jupyter-widgets/base",
            "overflow": null,
            "_model_module_version": "1.2.0",
            "_view_count": null,
            "flex_flow": null,
            "width": null,
            "min_width": null,
            "border": null,
            "align_items": null,
            "bottom": null,
            "_model_module": "@jupyter-widgets/base",
            "top": null,
            "grid_column": null,
            "overflow_y": null,
            "overflow_x": null,
            "grid_auto_flow": null,
            "grid_area": null,
            "grid_template_columns": null,
            "flex": null,
            "_model_name": "LayoutModel",
            "justify_items": null,
            "grid_row": null,
            "max_height": null,
            "align_content": null,
            "visibility": null,
            "align_self": null,
            "height": null,
            "min_height": null,
            "padding": null,
            "grid_auto_rows": null,
            "grid_gap": null,
            "max_width": null,
            "order": null,
            "_view_module_version": "1.2.0",
            "grid_template_areas": null,
            "object_position": null,
            "object_fit": null,
            "grid_auto_columns": null,
            "margin": null,
            "display": null,
            "left": null
          }
        },
        "d3267e0b0c8c469592e526d7bd7efd9a": {
          "model_module": "@jupyter-widgets/controls",
          "model_name": "HBoxModel",
          "state": {
            "_view_name": "HBoxView",
            "_dom_classes": [],
            "_model_name": "HBoxModel",
            "_view_module": "@jupyter-widgets/controls",
            "_model_module_version": "1.5.0",
            "_view_count": null,
            "_view_module_version": "1.5.0",
            "box_style": "",
            "layout": "IPY_MODEL_76b8cb84e8fb444e97d04918f3e94683",
            "_model_module": "@jupyter-widgets/controls",
            "children": [
              "IPY_MODEL_9c02c5e51c73425e8de173b913ba9544",
              "IPY_MODEL_8ffce72f7c974f398961d72cf4530a37"
            ]
          }
        },
        "76b8cb84e8fb444e97d04918f3e94683": {
          "model_module": "@jupyter-widgets/base",
          "model_name": "LayoutModel",
          "state": {
            "_view_name": "LayoutView",
            "grid_template_rows": null,
            "right": null,
            "justify_content": null,
            "_view_module": "@jupyter-widgets/base",
            "overflow": null,
            "_model_module_version": "1.2.0",
            "_view_count": null,
            "flex_flow": null,
            "width": null,
            "min_width": null,
            "border": null,
            "align_items": null,
            "bottom": null,
            "_model_module": "@jupyter-widgets/base",
            "top": null,
            "grid_column": null,
            "overflow_y": null,
            "overflow_x": null,
            "grid_auto_flow": null,
            "grid_area": null,
            "grid_template_columns": null,
            "flex": null,
            "_model_name": "LayoutModel",
            "justify_items": null,
            "grid_row": null,
            "max_height": null,
            "align_content": null,
            "visibility": null,
            "align_self": null,
            "height": null,
            "min_height": null,
            "padding": null,
            "grid_auto_rows": null,
            "grid_gap": null,
            "max_width": null,
            "order": null,
            "_view_module_version": "1.2.0",
            "grid_template_areas": null,
            "object_position": null,
            "object_fit": null,
            "grid_auto_columns": null,
            "margin": null,
            "display": null,
            "left": null
          }
        },
        "9c02c5e51c73425e8de173b913ba9544": {
          "model_module": "@jupyter-widgets/controls",
          "model_name": "FloatProgressModel",
          "state": {
            "_view_name": "ProgressView",
            "style": "IPY_MODEL_5a807489f140444daabf38e615b54260",
            "_dom_classes": [],
            "description": "  0%",
            "_model_name": "FloatProgressModel",
            "bar_style": "info",
            "max": 1,
            "_view_module": "@jupyter-widgets/controls",
            "_model_module_version": "1.5.0",
            "value": 0,
            "_view_count": null,
            "_view_module_version": "1.5.0",
            "orientation": "horizontal",
            "min": 0,
            "description_tooltip": null,
            "_model_module": "@jupyter-widgets/controls",
            "layout": "IPY_MODEL_ea1c26f27c6f4f65ab33a68ef7e4fe4f"
          }
        },
        "8ffce72f7c974f398961d72cf4530a37": {
          "model_module": "@jupyter-widgets/controls",
          "model_name": "HTMLModel",
          "state": {
            "_view_name": "HTMLView",
            "style": "IPY_MODEL_1d036efb644c46f79f01bf8382a92620",
            "_dom_classes": [],
            "description": "",
            "_model_name": "HTMLModel",
            "placeholder": "​",
            "_view_module": "@jupyter-widgets/controls",
            "_model_module_version": "1.5.0",
            "value": " 0/1648877 [00:00&lt;?, ?it/s]",
            "_view_count": null,
            "_view_module_version": "1.5.0",
            "description_tooltip": null,
            "_model_module": "@jupyter-widgets/controls",
            "layout": "IPY_MODEL_40f7a9f9be5d4bdbaa738aafe4ede687"
          }
        },
        "5a807489f140444daabf38e615b54260": {
          "model_module": "@jupyter-widgets/controls",
          "model_name": "ProgressStyleModel",
          "state": {
            "_view_name": "StyleView",
            "_model_name": "ProgressStyleModel",
            "description_width": "initial",
            "_view_module": "@jupyter-widgets/base",
            "_model_module_version": "1.5.0",
            "_view_count": null,
            "_view_module_version": "1.2.0",
            "bar_color": null,
            "_model_module": "@jupyter-widgets/controls"
          }
        },
        "ea1c26f27c6f4f65ab33a68ef7e4fe4f": {
          "model_module": "@jupyter-widgets/base",
          "model_name": "LayoutModel",
          "state": {
            "_view_name": "LayoutView",
            "grid_template_rows": null,
            "right": null,
            "justify_content": null,
            "_view_module": "@jupyter-widgets/base",
            "overflow": null,
            "_model_module_version": "1.2.0",
            "_view_count": null,
            "flex_flow": null,
            "width": null,
            "min_width": null,
            "border": null,
            "align_items": null,
            "bottom": null,
            "_model_module": "@jupyter-widgets/base",
            "top": null,
            "grid_column": null,
            "overflow_y": null,
            "overflow_x": null,
            "grid_auto_flow": null,
            "grid_area": null,
            "grid_template_columns": null,
            "flex": null,
            "_model_name": "LayoutModel",
            "justify_items": null,
            "grid_row": null,
            "max_height": null,
            "align_content": null,
            "visibility": null,
            "align_self": null,
            "height": null,
            "min_height": null,
            "padding": null,
            "grid_auto_rows": null,
            "grid_gap": null,
            "max_width": null,
            "order": null,
            "_view_module_version": "1.2.0",
            "grid_template_areas": null,
            "object_position": null,
            "object_fit": null,
            "grid_auto_columns": null,
            "margin": null,
            "display": null,
            "left": null
          }
        },
        "1d036efb644c46f79f01bf8382a92620": {
          "model_module": "@jupyter-widgets/controls",
          "model_name": "DescriptionStyleModel",
          "state": {
            "_view_name": "StyleView",
            "_model_name": "DescriptionStyleModel",
            "description_width": "",
            "_view_module": "@jupyter-widgets/base",
            "_model_module_version": "1.5.0",
            "_view_count": null,
            "_view_module_version": "1.2.0",
            "_model_module": "@jupyter-widgets/controls"
          }
        },
        "40f7a9f9be5d4bdbaa738aafe4ede687": {
          "model_module": "@jupyter-widgets/base",
          "model_name": "LayoutModel",
          "state": {
            "_view_name": "LayoutView",
            "grid_template_rows": null,
            "right": null,
            "justify_content": null,
            "_view_module": "@jupyter-widgets/base",
            "overflow": null,
            "_model_module_version": "1.2.0",
            "_view_count": null,
            "flex_flow": null,
            "width": null,
            "min_width": null,
            "border": null,
            "align_items": null,
            "bottom": null,
            "_model_module": "@jupyter-widgets/base",
            "top": null,
            "grid_column": null,
            "overflow_y": null,
            "overflow_x": null,
            "grid_auto_flow": null,
            "grid_area": null,
            "grid_template_columns": null,
            "flex": null,
            "_model_name": "LayoutModel",
            "justify_items": null,
            "grid_row": null,
            "max_height": null,
            "align_content": null,
            "visibility": null,
            "align_self": null,
            "height": null,
            "min_height": null,
            "padding": null,
            "grid_auto_rows": null,
            "grid_gap": null,
            "max_width": null,
            "order": null,
            "_view_module_version": "1.2.0",
            "grid_template_areas": null,
            "object_position": null,
            "object_fit": null,
            "grid_auto_columns": null,
            "margin": null,
            "display": null,
            "left": null
          }
        },
        "47a2b47b644545d3883a32b01c922097": {
          "model_module": "@jupyter-widgets/controls",
          "model_name": "HBoxModel",
          "state": {
            "_view_name": "HBoxView",
            "_dom_classes": [],
            "_model_name": "HBoxModel",
            "_view_module": "@jupyter-widgets/controls",
            "_model_module_version": "1.5.0",
            "_view_count": null,
            "_view_module_version": "1.5.0",
            "box_style": "",
            "layout": "IPY_MODEL_6c51551904304285949abb49c7172e7d",
            "_model_module": "@jupyter-widgets/controls",
            "children": [
              "IPY_MODEL_3f1b6cf5a6b34525a8c657e8547a889e",
              "IPY_MODEL_c6de68269bfc4cc48ee4820bf366ffda"
            ]
          }
        },
        "6c51551904304285949abb49c7172e7d": {
          "model_module": "@jupyter-widgets/base",
          "model_name": "LayoutModel",
          "state": {
            "_view_name": "LayoutView",
            "grid_template_rows": null,
            "right": null,
            "justify_content": null,
            "_view_module": "@jupyter-widgets/base",
            "overflow": null,
            "_model_module_version": "1.2.0",
            "_view_count": null,
            "flex_flow": null,
            "width": null,
            "min_width": null,
            "border": null,
            "align_items": null,
            "bottom": null,
            "_model_module": "@jupyter-widgets/base",
            "top": null,
            "grid_column": null,
            "overflow_y": null,
            "overflow_x": null,
            "grid_auto_flow": null,
            "grid_area": null,
            "grid_template_columns": null,
            "flex": null,
            "_model_name": "LayoutModel",
            "justify_items": null,
            "grid_row": null,
            "max_height": null,
            "align_content": null,
            "visibility": null,
            "align_self": null,
            "height": null,
            "min_height": null,
            "padding": null,
            "grid_auto_rows": null,
            "grid_gap": null,
            "max_width": null,
            "order": null,
            "_view_module_version": "1.2.0",
            "grid_template_areas": null,
            "object_position": null,
            "object_fit": null,
            "grid_auto_columns": null,
            "margin": null,
            "display": null,
            "left": null
          }
        },
        "3f1b6cf5a6b34525a8c657e8547a889e": {
          "model_module": "@jupyter-widgets/controls",
          "model_name": "FloatProgressModel",
          "state": {
            "_view_name": "ProgressView",
            "style": "IPY_MODEL_03e1fb8699af432d8718caebd416d9dd",
            "_dom_classes": [],
            "description": "",
            "_model_name": "FloatProgressModel",
            "bar_style": "success",
            "max": 1,
            "_view_module": "@jupyter-widgets/controls",
            "_model_module_version": "1.5.0",
            "value": 1,
            "_view_count": null,
            "_view_module_version": "1.5.0",
            "orientation": "horizontal",
            "min": 0,
            "description_tooltip": null,
            "_model_module": "@jupyter-widgets/controls",
            "layout": "IPY_MODEL_4cda64579314462ca28269c7f98ff3cb"
          }
        },
        "c6de68269bfc4cc48ee4820bf366ffda": {
          "model_module": "@jupyter-widgets/controls",
          "model_name": "HTMLModel",
          "state": {
            "_view_name": "HTMLView",
            "style": "IPY_MODEL_03778bfe180746439f9056ca44b4800f",
            "_dom_classes": [],
            "description": "",
            "_model_name": "HTMLModel",
            "placeholder": "​",
            "_view_module": "@jupyter-widgets/controls",
            "_model_module_version": "1.5.0",
            "value": " 8192/? [00:04&lt;00:00, 1904.53it/s]",
            "_view_count": null,
            "_view_module_version": "1.5.0",
            "description_tooltip": null,
            "_model_module": "@jupyter-widgets/controls",
            "layout": "IPY_MODEL_a4d3cd99e1464485a5ae12898486fb0d"
          }
        },
        "03e1fb8699af432d8718caebd416d9dd": {
          "model_module": "@jupyter-widgets/controls",
          "model_name": "ProgressStyleModel",
          "state": {
            "_view_name": "StyleView",
            "_model_name": "ProgressStyleModel",
            "description_width": "initial",
            "_view_module": "@jupyter-widgets/base",
            "_model_module_version": "1.5.0",
            "_view_count": null,
            "_view_module_version": "1.2.0",
            "bar_color": null,
            "_model_module": "@jupyter-widgets/controls"
          }
        },
        "4cda64579314462ca28269c7f98ff3cb": {
          "model_module": "@jupyter-widgets/base",
          "model_name": "LayoutModel",
          "state": {
            "_view_name": "LayoutView",
            "grid_template_rows": null,
            "right": null,
            "justify_content": null,
            "_view_module": "@jupyter-widgets/base",
            "overflow": null,
            "_model_module_version": "1.2.0",
            "_view_count": null,
            "flex_flow": null,
            "width": null,
            "min_width": null,
            "border": null,
            "align_items": null,
            "bottom": null,
            "_model_module": "@jupyter-widgets/base",
            "top": null,
            "grid_column": null,
            "overflow_y": null,
            "overflow_x": null,
            "grid_auto_flow": null,
            "grid_area": null,
            "grid_template_columns": null,
            "flex": null,
            "_model_name": "LayoutModel",
            "justify_items": null,
            "grid_row": null,
            "max_height": null,
            "align_content": null,
            "visibility": null,
            "align_self": null,
            "height": null,
            "min_height": null,
            "padding": null,
            "grid_auto_rows": null,
            "grid_gap": null,
            "max_width": null,
            "order": null,
            "_view_module_version": "1.2.0",
            "grid_template_areas": null,
            "object_position": null,
            "object_fit": null,
            "grid_auto_columns": null,
            "margin": null,
            "display": null,
            "left": null
          }
        },
        "03778bfe180746439f9056ca44b4800f": {
          "model_module": "@jupyter-widgets/controls",
          "model_name": "DescriptionStyleModel",
          "state": {
            "_view_name": "StyleView",
            "_model_name": "DescriptionStyleModel",
            "description_width": "",
            "_view_module": "@jupyter-widgets/base",
            "_model_module_version": "1.5.0",
            "_view_count": null,
            "_view_module_version": "1.2.0",
            "_model_module": "@jupyter-widgets/controls"
          }
        },
        "a4d3cd99e1464485a5ae12898486fb0d": {
          "model_module": "@jupyter-widgets/base",
          "model_name": "LayoutModel",
          "state": {
            "_view_name": "LayoutView",
            "grid_template_rows": null,
            "right": null,
            "justify_content": null,
            "_view_module": "@jupyter-widgets/base",
            "overflow": null,
            "_model_module_version": "1.2.0",
            "_view_count": null,
            "flex_flow": null,
            "width": null,
            "min_width": null,
            "border": null,
            "align_items": null,
            "bottom": null,
            "_model_module": "@jupyter-widgets/base",
            "top": null,
            "grid_column": null,
            "overflow_y": null,
            "overflow_x": null,
            "grid_auto_flow": null,
            "grid_area": null,
            "grid_template_columns": null,
            "flex": null,
            "_model_name": "LayoutModel",
            "justify_items": null,
            "grid_row": null,
            "max_height": null,
            "align_content": null,
            "visibility": null,
            "align_self": null,
            "height": null,
            "min_height": null,
            "padding": null,
            "grid_auto_rows": null,
            "grid_gap": null,
            "max_width": null,
            "order": null,
            "_view_module_version": "1.2.0",
            "grid_template_areas": null,
            "object_position": null,
            "object_fit": null,
            "grid_auto_columns": null,
            "margin": null,
            "display": null,
            "left": null
          }
        }
      }
    }
  },
  "cells": [
    {
      "cell_type": "markdown",
      "metadata": {
        "id": "zK7BQHStNrBQ"
      },
      "source": [
        "[![Open In Colab](https://colab.research.google.com/assets/colab-badge.svg)](https://colab.research.google.com/github/rodrigobdz/neural-processes/blob/main/neural-processes.ipynb)"
      ]
    },
    {
      "cell_type": "code",
      "metadata": {
        "colab": {
          "resources": {
            "http://localhost:8080/nbextensions/google.colab/files.js": {
              "data": "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",
              "ok": true,
              "headers": [
                [
                  "content-type",
                  "application/javascript"
                ]
              ],
              "status": 200,
              "status_text": ""
            }
          },
          "base_uri": "https://localhost:8080/",
          "height": 344
        },
        "id": "KzBsSrUcoQFr",
        "outputId": "f2b507dc-7a76-4f01-f825-277438232ad0"
      },
      "source": [
        "# Upload all .py files in neural_processes folder\n",
        "# i.e. data_generator.py, decoder.py, encoder.py, mlp.py, model.py, and utils.py\n",
        "from google.colab import files\n",
        "uploaded = files.upload()"
      ],
      "execution_count": 1,
      "outputs": [
        {
          "output_type": "display_data",
          "data": {
            "text/html": [
              "\n",
              "     <input type=\"file\" id=\"files-dde7db61-fce7-48e8-8eef-6038c8f41f59\" name=\"files[]\" multiple disabled\n",
              "        style=\"border:none\" />\n",
              "     <output id=\"result-dde7db61-fce7-48e8-8eef-6038c8f41f59\">\n",
              "      Upload widget is only available when the cell has been executed in the\n",
              "      current browser session. Please rerun this cell to enable.\n",
              "      </output>\n",
              "      <script src=\"/nbextensions/google.colab/files.js\"></script> "
            ],
            "text/plain": [
              "<IPython.core.display.HTML object>"
            ]
          },
          "metadata": {
            "tags": []
          }
        },
        {
          "output_type": "stream",
          "text": [
            "Saving __init__.py to __init__.py\n",
            "Saving data_generator.py to data_generator.py\n",
            "Saving decoder.py to decoder.py\n",
            "Saving encoder.py to encoder.py\n",
            "Saving mlp.py to mlp.py\n",
            "Saving mnist.py to mnist.py\n",
            "Saving model.py to model.py\n",
            "Saving plot.py to plot.py\n",
            "Saving utils.py to utils.py\n"
          ],
          "name": "stdout"
        }
      ]
    },
    {
      "cell_type": "code",
      "metadata": {
        "id": "WguvE1AIoQF5"
      },
      "source": [
        "# Place uploaded files in neural_processes folder to mimic folder structure in repo\n",
        "!rm -rf sample_data/\n",
        "!mkdir -p neural_processes\n",
        "!mv *.py neural_processes/"
      ],
      "execution_count": 2,
      "outputs": []
    },
    {
      "cell_type": "code",
      "metadata": {
        "id": "MEjhj5EJoQF5"
      },
      "source": [
        "import neural_processes"
      ],
      "execution_count": 3,
      "outputs": []
    },
    {
      "cell_type": "code",
      "metadata": {
        "id": "d8bl_dSnAPpJ"
      },
      "source": [
        "import matplotlib.pyplot as plt\n",
        "\n",
        "import torch\n",
        "from torch import distributions\n",
        "from torch import nn \n",
        "from torch import optim\n",
        "\n",
        "import torchvision\n",
        "from torchvision import datasets"
      ],
      "execution_count": 4,
      "outputs": []
    },
    {
      "cell_type": "code",
      "metadata": {
        "colab": {
          "base_uri": "https://localhost:8080/"
        },
        "id": "zICaiMlRUsWH",
        "outputId": "80d90783-7e50-4c50-915a-c89a36ce0d3e"
      },
      "source": [
        "dev = torch.device('cuda' if torch.cuda.is_available() else 'cpu')\n",
        "dev"
      ],
      "execution_count": 5,
      "outputs": [
        {
          "output_type": "execute_result",
          "data": {
            "text/plain": [
              "device(type='cuda')"
            ]
          },
          "metadata": {
            "tags": []
          },
          "execution_count": 5
        }
      ]
    },
    {
      "cell_type": "code",
      "metadata": {
        "id": "g7T37vkeAKW2"
      },
      "source": [
        "TRAINING_ITERATIONS = 100000 #@param {type:\"number\"}\n",
        "MAX_NUM_CONTEXT = 50 #@param {type:\"number\"}\n",
        "PLOT_AFTER = 10000 #@param {type:\"number\"}\n",
        "HIDDEN_SIZE = 128 #@param {type:\"number\"}\n",
        "\n",
        "random_kernel_parameters=True #@param {type:\"boolean\"}\n",
        "\n",
        "batch_size = 16\n",
        "max_num_context = MAX_NUM_CONTEXT\n",
        "x_size = 1\n",
        "y_size = 1\n",
        "length_scale = 0.6\n",
        "sigma_scale = 1.0\n",
        "num_iter = TRAINING_ITERATIONS\n",
        "save_iter = PLOT_AFTER"
      ],
      "execution_count": 6,
      "outputs": []
    },
    {
      "cell_type": "code",
      "metadata": {
        "id": "cfWpsUsOFgwx",
        "colab": {
          "base_uri": "https://localhost:8080/",
          "height": 324
        },
        "outputId": "a0751ba1-3195-4f5b-fd97-8ab5c1ace075"
      },
      "source": [
        "gp = neural_processes.data_generator.GPCurves(batch_size, max_num_context, x_size, y_size, length_scale, sigma_scale, dev='cuda')\n",
        "train_list = [gp.generate_curves() for _ in range(num_iter)]"
      ],
      "execution_count": 7,
      "outputs": [
        {
          "output_type": "error",
          "ename": "KeyboardInterrupt",
          "evalue": "ignored",
          "traceback": [
            "\u001b[0;31m---------------------------------------------------------------------------\u001b[0m",
            "\u001b[0;31mKeyboardInterrupt\u001b[0m                         Traceback (most recent call last)",
            "\u001b[0;32m<ipython-input-7-0f2c7c63a0d1>\u001b[0m in \u001b[0;36m<module>\u001b[0;34m()\u001b[0m\n\u001b[1;32m      1\u001b[0m \u001b[0mgp\u001b[0m \u001b[0;34m=\u001b[0m \u001b[0mneural_processes\u001b[0m\u001b[0;34m.\u001b[0m\u001b[0mdata_generator\u001b[0m\u001b[0;34m.\u001b[0m\u001b[0mGPCurves\u001b[0m\u001b[0;34m(\u001b[0m\u001b[0mbatch_size\u001b[0m\u001b[0;34m,\u001b[0m \u001b[0mmax_num_context\u001b[0m\u001b[0;34m,\u001b[0m \u001b[0mx_size\u001b[0m\u001b[0;34m,\u001b[0m \u001b[0my_size\u001b[0m\u001b[0;34m,\u001b[0m \u001b[0mlength_scale\u001b[0m\u001b[0;34m,\u001b[0m \u001b[0msigma_scale\u001b[0m\u001b[0;34m,\u001b[0m \u001b[0mdev\u001b[0m\u001b[0;34m=\u001b[0m\u001b[0;34m'cuda'\u001b[0m\u001b[0;34m)\u001b[0m\u001b[0;34m\u001b[0m\u001b[0;34m\u001b[0m\u001b[0m\n\u001b[0;32m----> 2\u001b[0;31m \u001b[0mtrain_list\u001b[0m \u001b[0;34m=\u001b[0m \u001b[0;34m[\u001b[0m\u001b[0mgp\u001b[0m\u001b[0;34m.\u001b[0m\u001b[0mgenerate_curves\u001b[0m\u001b[0;34m(\u001b[0m\u001b[0;34m)\u001b[0m \u001b[0;32mfor\u001b[0m \u001b[0m_\u001b[0m \u001b[0;32min\u001b[0m \u001b[0mrange\u001b[0m\u001b[0;34m(\u001b[0m\u001b[0mnum_iter\u001b[0m\u001b[0;34m)\u001b[0m\u001b[0;34m]\u001b[0m\u001b[0;34m\u001b[0m\u001b[0;34m\u001b[0m\u001b[0m\n\u001b[0m",
            "\u001b[0;32m<ipython-input-7-0f2c7c63a0d1>\u001b[0m in \u001b[0;36m<listcomp>\u001b[0;34m(.0)\u001b[0m\n\u001b[1;32m      1\u001b[0m \u001b[0mgp\u001b[0m \u001b[0;34m=\u001b[0m \u001b[0mneural_processes\u001b[0m\u001b[0;34m.\u001b[0m\u001b[0mdata_generator\u001b[0m\u001b[0;34m.\u001b[0m\u001b[0mGPCurves\u001b[0m\u001b[0;34m(\u001b[0m\u001b[0mbatch_size\u001b[0m\u001b[0;34m,\u001b[0m \u001b[0mmax_num_context\u001b[0m\u001b[0;34m,\u001b[0m \u001b[0mx_size\u001b[0m\u001b[0;34m,\u001b[0m \u001b[0my_size\u001b[0m\u001b[0;34m,\u001b[0m \u001b[0mlength_scale\u001b[0m\u001b[0;34m,\u001b[0m \u001b[0msigma_scale\u001b[0m\u001b[0;34m,\u001b[0m \u001b[0mdev\u001b[0m\u001b[0;34m=\u001b[0m\u001b[0;34m'cuda'\u001b[0m\u001b[0;34m)\u001b[0m\u001b[0;34m\u001b[0m\u001b[0;34m\u001b[0m\u001b[0m\n\u001b[0;32m----> 2\u001b[0;31m \u001b[0mtrain_list\u001b[0m \u001b[0;34m=\u001b[0m \u001b[0;34m[\u001b[0m\u001b[0mgp\u001b[0m\u001b[0;34m.\u001b[0m\u001b[0mgenerate_curves\u001b[0m\u001b[0;34m(\u001b[0m\u001b[0;34m)\u001b[0m \u001b[0;32mfor\u001b[0m \u001b[0m_\u001b[0m \u001b[0;32min\u001b[0m \u001b[0mrange\u001b[0m\u001b[0;34m(\u001b[0m\u001b[0mnum_iter\u001b[0m\u001b[0;34m)\u001b[0m\u001b[0;34m]\u001b[0m\u001b[0;34m\u001b[0m\u001b[0;34m\u001b[0m\u001b[0m\n\u001b[0m",
            "\u001b[0;32m/content/neural_processes/data_generator.py\u001b[0m in \u001b[0;36mgenerate_curves\u001b[0;34m(self)\u001b[0m\n\u001b[1;32m    172\u001b[0m             \u001b[0mcontext_y\u001b[0m \u001b[0;34m=\u001b[0m \u001b[0mY\u001b[0m\u001b[0;34m[\u001b[0m\u001b[0;34m:\u001b[0m\u001b[0;34m,\u001b[0m \u001b[0;34m:\u001b[0m\u001b[0mnum_context\u001b[0m\u001b[0;34m,\u001b[0m \u001b[0;34m:\u001b[0m\u001b[0;34m]\u001b[0m\u001b[0;34m\u001b[0m\u001b[0;34m\u001b[0m\u001b[0m\n\u001b[1;32m    173\u001b[0m \u001b[0;34m\u001b[0m\u001b[0m\n\u001b[0;32m--> 174\u001b[0;31m         \u001b[0mcontext_x\u001b[0m \u001b[0;34m=\u001b[0m \u001b[0mcontext_x\u001b[0m\u001b[0;34m.\u001b[0m\u001b[0mto\u001b[0m\u001b[0;34m(\u001b[0m\u001b[0mself\u001b[0m\u001b[0;34m.\u001b[0m\u001b[0m_dev\u001b[0m\u001b[0;34m)\u001b[0m\u001b[0;34m\u001b[0m\u001b[0;34m\u001b[0m\u001b[0m\n\u001b[0m\u001b[1;32m    175\u001b[0m         \u001b[0mcontext_y\u001b[0m \u001b[0;34m=\u001b[0m \u001b[0mcontext_y\u001b[0m\u001b[0;34m.\u001b[0m\u001b[0mto\u001b[0m\u001b[0;34m(\u001b[0m\u001b[0mself\u001b[0m\u001b[0;34m.\u001b[0m\u001b[0m_dev\u001b[0m\u001b[0;34m)\u001b[0m\u001b[0;34m\u001b[0m\u001b[0;34m\u001b[0m\u001b[0m\n\u001b[1;32m    176\u001b[0m         \u001b[0mtarget_x\u001b[0m \u001b[0;34m=\u001b[0m \u001b[0mtarget_x\u001b[0m\u001b[0;34m.\u001b[0m\u001b[0mto\u001b[0m\u001b[0;34m(\u001b[0m\u001b[0mself\u001b[0m\u001b[0;34m.\u001b[0m\u001b[0m_dev\u001b[0m\u001b[0;34m)\u001b[0m\u001b[0;34m\u001b[0m\u001b[0;34m\u001b[0m\u001b[0m\n",
            "\u001b[0;31mKeyboardInterrupt\u001b[0m: "
          ]
        }
      ]
    },
    {
      "cell_type": "code",
      "metadata": {
        "id": "6eaYnBjxD9Hh"
      },
      "source": [
        "batch_size = 1\n",
        "gptest = neural_processes.data_generator.GPCurves(batch_size, max_num_context, testing=True, dev='cuda')\n",
        "test_list = [gptest.generate_curves()]"
      ],
      "execution_count": 8,
      "outputs": []
    },
    {
      "cell_type": "code",
      "metadata": {
        "id": "LfbGtTiBP8XH"
      },
      "source": [
        "in_features = 1 \n",
        "h_size = HIDDEN_SIZE\n",
        "encoder_out = [128, 256, 512, 1024] # [h_size]*4\n",
        "decoder_out = [512, 256] + [2] # [128]*2 + [2] \n",
        "mc_size = 1"
      ],
      "execution_count": 9,
      "outputs": []
    },
    {
      "cell_type": "code",
      "metadata": {
        "colab": {
          "base_uri": "https://localhost:8080/"
        },
        "id": "tXgtJbVxGR9D",
        "outputId": "580cbb35-7e54-4039-9f23-50ae54518f42"
      },
      "source": [
        "np = neural_processes.model.NeuralProcess(in_features, encoder_out, decoder_out, h_size, mc_size)\n",
        "np.to(dev)"
      ],
      "execution_count": 11,
      "outputs": [
        {
          "output_type": "execute_result",
          "data": {
            "text/plain": [
              "NeuralProcess(\n",
              "  (_encoder): Encoder(\n",
              "    (_mlp): MLP(\n",
              "      (linears): ModuleList(\n",
              "        (0): Linear(in_features=2, out_features=128, bias=True)\n",
              "        (1): ReLU()\n",
              "        (2): Linear(in_features=128, out_features=256, bias=True)\n",
              "        (3): ReLU()\n",
              "        (4): Linear(in_features=256, out_features=512, bias=True)\n",
              "        (5): ReLU()\n",
              "        (6): Linear(in_features=512, out_features=1024, bias=True)\n",
              "      )\n",
              "    )\n",
              "    (_map): Sequential(\n",
              "      (0): Linear(in_features=1024, out_features=128, bias=True)\n",
              "      (1): ReLU()\n",
              "    )\n",
              "    (_mu): Linear(in_features=128, out_features=128, bias=True)\n",
              "    (_log_sigma): Linear(in_features=128, out_features=128, bias=True)\n",
              "  )\n",
              "  (_decoder): Decoder(\n",
              "    (_mlp): MLP(\n",
              "      (linears): ModuleList(\n",
              "        (0): Linear(in_features=129, out_features=512, bias=True)\n",
              "        (1): ReLU()\n",
              "        (2): Linear(in_features=512, out_features=256, bias=True)\n",
              "        (3): ReLU()\n",
              "        (4): Linear(in_features=256, out_features=2, bias=True)\n",
              "      )\n",
              "    )\n",
              "  )\n",
              ")"
            ]
          },
          "metadata": {
            "tags": []
          },
          "execution_count": 11
        }
      ]
    },
    {
      "cell_type": "code",
      "metadata": {
        "colab": {
          "base_uri": "https://localhost:8080/",
          "height": 198
        },
        "id": "hAa98zHE8olQ",
        "outputId": "a9cbe4e7-255c-4d0d-9534-e5d9f58a8b53"
      },
      "source": [
        "# Xavier_Uniform weight init\n",
        "def init_weights(m):\n",
        "    if type(m) == nn.Linear:\n",
        "        torch.nn.init.xavier_uniform_(m.weight)\n",
        "        m.bias.data.fill_(0.01)\n",
        "\n",
        "np.apply(init_weights)"
      ],
      "execution_count": 8,
      "outputs": [
        {
          "output_type": "error",
          "ename": "NameError",
          "evalue": "ignored",
          "traceback": [
            "\u001b[0;31m---------------------------------------------------------------------------\u001b[0m",
            "\u001b[0;31mNameError\u001b[0m                                 Traceback (most recent call last)",
            "\u001b[0;32m<ipython-input-8-45720b2ff69b>\u001b[0m in \u001b[0;36m<module>\u001b[0;34m()\u001b[0m\n\u001b[1;32m      5\u001b[0m         \u001b[0mm\u001b[0m\u001b[0;34m.\u001b[0m\u001b[0mbias\u001b[0m\u001b[0;34m.\u001b[0m\u001b[0mdata\u001b[0m\u001b[0;34m.\u001b[0m\u001b[0mfill_\u001b[0m\u001b[0;34m(\u001b[0m\u001b[0;36m0.01\u001b[0m\u001b[0;34m)\u001b[0m\u001b[0;34m\u001b[0m\u001b[0;34m\u001b[0m\u001b[0m\n\u001b[1;32m      6\u001b[0m \u001b[0;34m\u001b[0m\u001b[0m\n\u001b[0;32m----> 7\u001b[0;31m \u001b[0mnp\u001b[0m\u001b[0;34m.\u001b[0m\u001b[0mapply\u001b[0m\u001b[0;34m(\u001b[0m\u001b[0minit_weights\u001b[0m\u001b[0;34m)\u001b[0m\u001b[0;34m\u001b[0m\u001b[0;34m\u001b[0m\u001b[0m\n\u001b[0m",
            "\u001b[0;31mNameError\u001b[0m: name 'np' is not defined"
          ]
        }
      ]
    },
    {
      "cell_type": "code",
      "metadata": {
        "colab": {
          "base_uri": "https://localhost:8080/",
          "height": 1000
        },
        "id": "ftyiW4NRZcTF",
        "outputId": "79270c3f-63e9-4156-dc1e-378571476408"
      },
      "source": [
        "mu, sigma = np.fit(num_iter, save_iter, train_list, test_list)"
      ],
      "execution_count": 13,
      "outputs": [
        {
          "output_type": "stream",
          "text": [
            "Iteration: 0, loss: 27.930179595947266\n"
          ],
          "name": "stdout"
        },
        {
          "output_type": "display_data",
          "data": {
            "image/png": "[encoded data removed]",
            "text/plain": [
              "<Figure size 432x288 with 1 Axes>"
            ]
          },
          "metadata": {
            "tags": [],
            "needs_background": "light"
          }
        },
        {
          "output_type": "stream",
          "text": [
            "Iteration: 10000, loss: 25.39400863647461\n"
          ],
          "name": "stdout"
        },
        {
          "output_type": "display_data",
          "data": {
            "image/png": "[encoded data removed]",
            "text/plain": [
              "<Figure size 432x288 with 1 Axes>"
            ]
          },
          "metadata": {
            "tags": [],
            "needs_background": "light"
          }
        },
        {
          "output_type": "stream",
          "text": [
            "Iteration: 20000, loss: 8.885335922241211\n"
          ],
          "name": "stdout"
        },
        {
          "output_type": "display_data",
          "data": {
            "image/png": "[encoded data removed]",
            "text/plain": [
              "<Figure size 432x288 with 1 Axes>"
            ]
          },
          "metadata": {
            "tags": [],
            "needs_background": "light"
          }
        },
        {
          "output_type": "stream",
          "text": [
            "Iteration: 30000, loss: 3.867004871368408\n"
          ],
          "name": "stdout"
        },
        {
          "output_type": "display_data",
          "data": {
            "image/png": "[encoded data removed]",
            "text/plain": [
              "<Figure size 432x288 with 1 Axes>"
            ]
          },
          "metadata": {
            "tags": [],
            "needs_background": "light"
          }
        },
        {
          "output_type": "stream",
          "text": [
            "Iteration: 40000, loss: -1.9484446048736572\n"
          ],
          "name": "stdout"
        },
        {
          "output_type": "display_data",
          "data": {
            "image/png": "[encoded data removed]",
            "text/plain": [
              "<Figure size 432x288 with 1 Axes>"
            ]
          },
          "metadata": {
            "tags": [],
            "needs_background": "light"
          }
        },
        {
          "output_type": "stream",
          "text": [
            "Iteration: 50000, loss: -0.43121814727783203\n"
          ],
          "name": "stdout"
        },
        {
          "output_type": "display_data",
          "data": {
            "image/png": "[encoded data removed]",
            "text/plain": [
              "<Figure size 432x288 with 1 Axes>"
            ]
          },
          "metadata": {
            "tags": [],
            "needs_background": "light"
          }
        },
        {
          "output_type": "stream",
          "text": [
            "Iteration: 60000, loss: -2.0161499977111816\n"
          ],
          "name": "stdout"
        },
        {
          "output_type": "display_data",
          "data": {
            "image/png": "[encoded data removed]",
            "text/plain": [
              "<Figure size 432x288 with 1 Axes>"
            ]
          },
          "metadata": {
            "tags": [],
            "needs_background": "light"
          }
        },
        {
          "output_type": "stream",
          "text": [
            "Iteration: 70000, loss: -10.818398475646973\n"
          ],
          "name": "stdout"
        },
        {
          "output_type": "display_data",
          "data": {
            "image/png": "[encoded data removed]",
            "text/plain": [
              "<Figure size 432x288 with 1 Axes>"
            ]
          },
          "metadata": {
            "tags": [],
            "needs_background": "light"
          }
        },
        {
          "output_type": "stream",
          "text": [
            "Iteration: 80000, loss: 1.3421375751495361\n"
          ],
          "name": "stdout"
        },
        {
          "output_type": "display_data",
          "data": {
            "image/png": "[encoded data removed]",
            "text/plain": [
              "<Figure size 432x288 with 1 Axes>"
            ]
          },
          "metadata": {
            "tags": [],
            "needs_background": "light"
          }
        },
        {
          "output_type": "stream",
          "text": [
            "Iteration: 90000, loss: -3.6306228637695312\n"
          ],
          "name": "stdout"
        },
        {
          "output_type": "display_data",
          "data": {
            "image/png": "[encoded data removed]",
            "text/plain": [
              "<Figure size 432x288 with 1 Axes>"
            ]
          },
          "metadata": {
            "tags": [],
            "needs_background": "light"
          }
        }
      ]
    },
    {
      "cell_type": "markdown",
      "metadata": {
        "id": "BE5vvJW2QNDK"
      },
      "source": [
        "# Save Neural Process model to Google Drive\n",
        "Uncomment the code in the following cell to enable this."
      ]
    },
    {
      "cell_type": "code",
      "metadata": {
        "id": "_Q-fwbWxFurF"
      },
      "source": [
        "# Mount drive\n",
        "# Source: https://colab.research.google.com/notebooks/io.ipynb#scrollTo=XDg9OBaYqRMd\n",
        "# from google.colab import drive\n",
        "# drive.mount('/content/gdrive')\n",
        "\n",
        "# Save model\n",
        "# Source: https://pytorch.org/tutorials/beginner/saving_loading_models.html\n",
        "# !mkdir -p /content/gdrive/MyDrive/neural-processes-model\n",
        "# torch.save(np, '/content/gdrive/MyDrive/neural-processes-model.pt')"
      ],
      "execution_count": 14,
      "outputs": []
    },
    {
      "cell_type": "code",
      "metadata": {
        "id": "Zk0gp3n97bJ5"
      },
      "source": [
        "# Hotfix for missing HTTP headers in pytorch's HTTP request for MNIST dataset download\n",
        "# Source:\n",
        "# https://github.com/pytorch/vision/issues/1938#issuecomment-594623431\n",
        "from six.moves import urllib\n",
        "opener = urllib.request.build_opener()\n",
        "opener.addheaders = [('User-agent', 'Mozilla/5.0')]\n",
        "urllib.request.install_opener(opener)"
      ],
      "execution_count": 10,
      "outputs": []
    },
    {
      "cell_type": "code",
      "metadata": {
        "id": "eQktuXGt1HZM",
        "colab": {
          "base_uri": "https://localhost:8080/",
          "height": 386,
          "referenced_widgets": [
            "fe129d4911b6423eafec569dc4a9f944",
            "e92509a516b74d6ca79c0340959020aa",
            "fba73cec220b4932b2a0942d605c8509",
            "cb9922cf74ee458dbb1ce1f80e6ff7e9",
            "e440fb6fe2b644fba677a3a9af50de0a",
            "a17afebd069844bf9c1c962399284f4a",
            "07aaa2db51c24df799dd305f569dc44e",
            "f5688213bfa643bab258ceb281ffb749",
            "6b5b940155d04d49a5507df1cecf76fb",
            "13b031fb83434478a9e9eea629b76b74",
            "756a0f9d55c444098a395d19592f07b4",
            "eff81695d2b4442c92e9098e680d1810",
            "2e361a0fa2074722bcce5642e2b3b129",
            "9a17fe89248f444f8bf6d8e9460d4a77",
            "5ca7d4324fc24bf585c136b4d45ab250",
            "afa7409b0bce47e299bb55b9b6ec2a7d",
            "d3267e0b0c8c469592e526d7bd7efd9a",
            "76b8cb84e8fb444e97d04918f3e94683",
            "9c02c5e51c73425e8de173b913ba9544",
            "8ffce72f7c974f398961d72cf4530a37",
            "5a807489f140444daabf38e615b54260",
            "ea1c26f27c6f4f65ab33a68ef7e4fe4f",
            "1d036efb644c46f79f01bf8382a92620",
            "40f7a9f9be5d4bdbaa738aafe4ede687",
            "47a2b47b644545d3883a32b01c922097",
            "6c51551904304285949abb49c7172e7d",
            "3f1b6cf5a6b34525a8c657e8547a889e",
            "c6de68269bfc4cc48ee4820bf366ffda",
            "03e1fb8699af432d8718caebd416d9dd",
            "4cda64579314462ca28269c7f98ff3cb",
            "03778bfe180746439f9056ca44b4800f",
            "a4d3cd99e1464485a5ae12898486fb0d"
          ]
        },
        "outputId": "f9e975e0-4e5f-4070-9dcd-0c8987bbc6ad"
      },
      "source": [
        "# ToTensor() maps to range [0, 1]\n",
        "train_mnist = datasets.MNIST('./data', download=True, transform=torchvision.transforms.ToTensor()) \n",
        "test_mnist = datasets.MNIST('./data', train=False, download=True, transform=torchvision.transforms.ToTensor())"
      ],
      "execution_count": 11,
      "outputs": [
        {
          "output_type": "stream",
          "text": [
            "Downloading http://yann.lecun.com/exdb/mnist/train-images-idx3-ubyte.gz to ./data/MNIST/raw/train-images-idx3-ubyte.gz\n"
          ],
          "name": "stdout"
        },
        {
          "output_type": "display_data",
          "data": {
            "application/vnd.jupyter.widget-view+json": {
              "model_id": "fe129d4911b6423eafec569dc4a9f944",
              "version_minor": 0,
              "version_major": 2
            },
            "text/plain": [
              "HBox(children=(FloatProgress(value=1.0, bar_style='info', max=1.0), HTML(value='')))"
            ]
          },
          "metadata": {
            "tags": []
          }
        },
        {
          "output_type": "stream",
          "text": [
            "Extracting ./data/MNIST/raw/train-images-idx3-ubyte.gz to ./data/MNIST/raw\n",
            "Downloading http://yann.lecun.com/exdb/mnist/train-labels-idx1-ubyte.gz to ./data/MNIST/raw/train-labels-idx1-ubyte.gz\n"
          ],
          "name": "stdout"
        },
        {
          "output_type": "display_data",
          "data": {
            "application/vnd.jupyter.widget-view+json": {
              "model_id": "6b5b940155d04d49a5507df1cecf76fb",
              "version_minor": 0,
              "version_major": 2
            },
            "text/plain": [
              "HBox(children=(FloatProgress(value=1.0, bar_style='info', max=1.0), HTML(value='')))"
            ]
          },
          "metadata": {
            "tags": []
          }
        },
        {
          "output_type": "stream",
          "text": [
            "Extracting ./data/MNIST/raw/train-labels-idx1-ubyte.gz to ./data/MNIST/raw\n",
            "Downloading http://yann.lecun.com/exdb/mnist/t10k-images-idx3-ubyte.gz to ./data/MNIST/raw/t10k-images-idx3-ubyte.gz\n",
            "\n"
          ],
          "name": "stdout"
        },
        {
          "output_type": "display_data",
          "data": {
            "application/vnd.jupyter.widget-view+json": {
              "model_id": "d3267e0b0c8c469592e526d7bd7efd9a",
              "version_minor": 0,
              "version_major": 2
            },
            "text/plain": [
              "HBox(children=(FloatProgress(value=1.0, bar_style='info', max=1.0), HTML(value='')))"
            ]
          },
          "metadata": {
            "tags": []
          }
        },
        {
          "output_type": "stream",
          "text": [
            "Extracting ./data/MNIST/raw/t10k-images-idx3-ubyte.gz to ./data/MNIST/raw\n",
            "Downloading http://yann.lecun.com/exdb/mnist/t10k-labels-idx1-ubyte.gz to ./data/MNIST/raw/t10k-labels-idx1-ubyte.gz\n"
          ],
          "name": "stdout"
        },
        {
          "output_type": "display_data",
          "data": {
            "application/vnd.jupyter.widget-view+json": {
              "model_id": "47a2b47b644545d3883a32b01c922097",
              "version_minor": 0,
              "version_major": 2
            },
            "text/plain": [
              "HBox(children=(FloatProgress(value=1.0, bar_style='info', max=1.0), HTML(value='')))"
            ]
          },
          "metadata": {
            "tags": []
          }
        },
        {
          "output_type": "stream",
          "text": [
            "Extracting ./data/MNIST/raw/t10k-labels-idx1-ubyte.gz to ./data/MNIST/raw\n",
            "Processing...\n",
            "Done!\n"
          ],
          "name": "stdout"
        },
        {
          "output_type": "stream",
          "text": [
            "/usr/local/lib/python3.7/dist-packages/torchvision/datasets/mnist.py:480: UserWarning: The given NumPy array is not writeable, and PyTorch does not support non-writeable tensors. This means you can write to the underlying (supposedly non-writeable) NumPy array using the tensor. You may want to copy the array to protect its data or make it writeable before converting it to a tensor. This type of warning will be suppressed for the rest of this program. (Triggered internally at  /pytorch/torch/csrc/utils/tensor_numpy.cpp:141.)\n",
            "  return torch.from_numpy(parsed.astype(m[2], copy=False)).view(*s)\n"
          ],
          "name": "stderr"
        }
      ]
    },
    {
      "cell_type": "code",
      "metadata": {
        "id": "ZSK2mhy97niG"
      },
      "source": [
        "if dev.type == 'cuda':\n",
        "  pin_memory = True\n",
        "else:\n",
        "  pin_memory = False\n",
        "\n",
        "params = {'batch_size': 16,\n",
        "          'shuffle': True,\n",
        "          'num_workers': 4,\n",
        "          'pin_memory': pin_memory}\n",
        "          \n",
        "train_generator = torch.utils.data.DataLoader(train_mnist, **params)"
      ],
      "execution_count": 12,
      "outputs": []
    },
    {
      "cell_type": "code",
      "metadata": {
        "id": "gbyVDK927bJ6"
      },
      "source": [
        "params = {'batch_size': 1,\n",
        "          'shuffle': False,\n",
        "          'num_workers': 4,\n",
        "          'pin_memory': pin_memory}\n",
        "          \n",
        "test_generator = torch.utils.data.DataLoader(test_mnist, **params)"
      ],
      "execution_count": 13,
      "outputs": []
    },
    {
      "cell_type": "code",
      "metadata": {
        "id": "GjrSZnEF69g7"
      },
      "source": [
        "in_features = 2 \n",
        "h_size = 256\n",
        "encoder_out = [h_size] # [128, 256, 512, 1024] \n",
        "decoder_out = [h_size] + [2] # [512, 256] + [2] \n",
        "mc_size = 1"
      ],
      "execution_count": 14,
      "outputs": []
    },
    {
      "cell_type": "code",
      "metadata": {
        "id": "PzzxAGSqA_Co",
        "colab": {
          "base_uri": "https://localhost:8080/"
        },
        "outputId": "ae0a329a-6876-4126-e083-717afd40064b"
      },
      "source": [
        "np = neural_processes.model.NeuralProcess(in_features, encoder_out, decoder_out, h_size, mc_size)\n",
        "np.to(dev)"
      ],
      "execution_count": 15,
      "outputs": [
        {
          "output_type": "stream",
          "text": [
            "\n"
          ],
          "name": "stdout"
        },
        {
          "output_type": "execute_result",
          "data": {
            "text/plain": [
              "NeuralProcess(\n",
              "  (_encoder): Encoder(\n",
              "    (_mlp): MLP(\n",
              "      (linears): ModuleList(\n",
              "        (0): Linear(in_features=3, out_features=256, bias=True)\n",
              "      )\n",
              "    )\n",
              "    (_map): Sequential(\n",
              "      (0): Linear(in_features=256, out_features=256, bias=True)\n",
              "      (1): ReLU()\n",
              "    )\n",
              "    (_mu): Linear(in_features=256, out_features=256, bias=True)\n",
              "    (_log_sigma): Linear(in_features=256, out_features=256, bias=True)\n",
              "  )\n",
              "  (_decoder): Decoder(\n",
              "    (_mlp): MLP(\n",
              "      (linears): ModuleList(\n",
              "        (0): Linear(in_features=258, out_features=256, bias=True)\n",
              "        (1): ReLU()\n",
              "        (2): Linear(in_features=256, out_features=2, bias=True)\n",
              "      )\n",
              "    )\n",
              "  )\n",
              ")"
            ]
          },
          "metadata": {
            "tags": []
          },
          "execution_count": 15
        }
      ]
    },
    {
      "cell_type": "code",
      "metadata": {
        "id": "zkNhRFR865He"
      },
      "source": [
        "opt = optim.Adam(np.parameters(), lr=5e-5) "
      ],
      "execution_count": 16,
      "outputs": []
    },
    {
      "cell_type": "code",
      "metadata": {
        "id": "2vKx2UzyH1Ww",
        "colab": {
          "base_uri": "https://localhost:8080/",
          "height": 1000
        },
        "outputId": "8e667f29-ec77-4772-b020-7195de04af8f"
      },
      "source": [
        "epochs = 50\n",
        "save_epoch = 5\n",
        "num_iter = 60000 // 16\n",
        "# mu, sigma = fit_mnist(epochs, num_iter, save_epoch, np, opt, train_generator, test_generator, dev)\n",
        "mu, sigma = neural_processes.mnist.fit_mnist2(epochs, \n",
        "                                              save_epoch,\n",
        "                                              np, opt, \n",
        "                                              train_generator, \n",
        "                                              test_generator, \n",
        "                                              dev)"
      ],
      "execution_count": 17,
      "outputs": [
        {
          "output_type": "stream",
          "text": [
            "Epoch: 0, Iteration: 0, loss: 109.31525421142578\n",
            "Epoch: 0, Iteration: 1000, loss: 65.05448913574219\n",
            "Epoch: 0, Iteration: 2000, loss: 16.700931549072266\n",
            "Epoch: 0, Iteration: 3000, loss: 84.0899658203125\n",
            "Iteration: 3749, loss: 54.29644012451172\n",
            "241\n",
            "783\n"
          ],
          "name": "stdout"
        },
        {
          "output_type": "display_data",
          "data": {
            "image/png": "[encoded data removed]",
            "text/plain": [
              "<Figure size 432x288 with 1 Axes>"
            ]
          },
          "metadata": {
            "tags": [],
            "needs_background": "light"
          }
        },
        {
          "output_type": "display_data",
          "data": {
            "image/png": "[encoded data removed]",
            "text/plain": [
              "<Figure size 432x288 with 1 Axes>"
            ]
          },
          "metadata": {
            "tags": [],
            "needs_background": "light"
          }
        },
        {
          "output_type": "stream",
          "text": [
            "Epoch: 1, Iteration: 0, loss: 54.58955764770508\n",
            "Epoch: 1, Iteration: 1000, loss: 61.43389129638672\n",
            "Epoch: 1, Iteration: 2000, loss: 95.43151092529297\n",
            "Epoch: 1, Iteration: 3000, loss: 82.15559387207031\n",
            "Epoch: 2, Iteration: 0, loss: 58.61069869995117\n",
            "Epoch: 2, Iteration: 1000, loss: 70.16923522949219\n",
            "Epoch: 2, Iteration: 2000, loss: 3.2892165184020996\n",
            "Epoch: 2, Iteration: 3000, loss: 72.13987731933594\n",
            "Epoch: 3, Iteration: 0, loss: 49.27838134765625\n",
            "Epoch: 3, Iteration: 1000, loss: 61.47029495239258\n",
            "Epoch: 3, Iteration: 2000, loss: 64.288818359375\n",
            "Epoch: 3, Iteration: 3000, loss: 50.10687255859375\n",
            "Epoch: 4, Iteration: 0, loss: 40.7549934387207\n",
            "Epoch: 4, Iteration: 1000, loss: 64.98822784423828\n",
            "Epoch: 4, Iteration: 2000, loss: 113.43086242675781\n",
            "Epoch: 4, Iteration: 3000, loss: 24.263883590698242\n",
            "Epoch: 5, Iteration: 0, loss: 83.60137939453125\n",
            "Epoch: 5, Iteration: 1000, loss: 68.91276550292969\n",
            "Epoch: 5, Iteration: 2000, loss: 64.30467987060547\n",
            "Epoch: 5, Iteration: 3000, loss: 66.12631225585938\n",
            "Iteration: 3749, loss: 56.612754821777344\n",
            "241\n",
            "783\n"
          ],
          "name": "stdout"
        },
        {
          "output_type": "display_data",
          "data": {
            "image/png": "[encoded data removed]",
            "text/plain": [
              "<Figure size 432x288 with 1 Axes>"
            ]
          },
          "metadata": {
            "tags": [],
            "needs_background": "light"
          }
        },
        {
          "output_type": "display_data",
          "data": {
            "image/png": "[encoded data removed]",
            "text/plain": [
              "<Figure size 432x288 with 1 Axes>"
            ]
          },
          "metadata": {
            "tags": [],
            "needs_background": "light"
          }
        },
        {
          "output_type": "stream",
          "text": [
            "Epoch: 6, Iteration: 0, loss: 54.72581100463867\n",
            "Epoch: 6, Iteration: 1000, loss: 73.18938446044922\n",
            "Epoch: 6, Iteration: 2000, loss: 76.99697875976562\n",
            "Epoch: 6, Iteration: 3000, loss: 52.15064239501953\n",
            "Epoch: 7, Iteration: 0, loss: 72.37786102294922\n",
            "Epoch: 7, Iteration: 1000, loss: 70.750732421875\n",
            "Epoch: 7, Iteration: 2000, loss: 43.97400665283203\n",
            "Epoch: 7, Iteration: 3000, loss: 85.64117431640625\n",
            "Epoch: 8, Iteration: 0, loss: 86.78739166259766\n",
            "Epoch: 8, Iteration: 1000, loss: 44.89179229736328\n",
            "Epoch: 8, Iteration: 2000, loss: 100.78279113769531\n",
            "Epoch: 8, Iteration: 3000, loss: 35.52851104736328\n",
            "Epoch: 9, Iteration: 0, loss: 76.74237823486328\n",
            "Epoch: 9, Iteration: 1000, loss: 52.85476303100586\n",
            "Epoch: 9, Iteration: 2000, loss: 103.74095153808594\n",
            "Epoch: 9, Iteration: 3000, loss: 28.91974639892578\n",
            "Epoch: 10, Iteration: 0, loss: 97.29743194580078\n",
            "Epoch: 10, Iteration: 1000, loss: 68.24790954589844\n",
            "Epoch: 10, Iteration: 2000, loss: 63.09927749633789\n",
            "Epoch: 10, Iteration: 3000, loss: 52.297725677490234\n",
            "Iteration: 3749, loss: 45.908016204833984\n",
            "241\n",
            "783\n"
          ],
          "name": "stdout"
        },
        {
          "output_type": "display_data",
          "data": {
            "image/png": "[encoded data removed]",
            "text/plain": [
              "<Figure size 432x288 with 1 Axes>"
            ]
          },
          "metadata": {
            "tags": [],
            "needs_background": "light"
          }
        },
        {
          "output_type": "display_data",
          "data": {
            "image/png": "[encoded data removed]",
            "text/plain": [
              "<Figure size 432x288 with 1 Axes>"
            ]
          },
          "metadata": {
            "tags": [],
            "needs_background": "light"
          }
        },
        {
          "output_type": "stream",
          "text": [
            "Epoch: 11, Iteration: 0, loss: 82.27935028076172\n",
            "Epoch: 11, Iteration: 1000, loss: 83.08045959472656\n",
            "Epoch: 11, Iteration: 2000, loss: 116.89096069335938\n",
            "Epoch: 11, Iteration: 3000, loss: 95.87985229492188\n",
            "Epoch: 12, Iteration: 0, loss: 66.86880493164062\n",
            "Epoch: 12, Iteration: 1000, loss: 99.38179016113281\n",
            "Epoch: 12, Iteration: 2000, loss: 71.3990707397461\n",
            "Epoch: 12, Iteration: 3000, loss: 63.12803649902344\n",
            "Epoch: 13, Iteration: 0, loss: 76.35626220703125\n",
            "Epoch: 13, Iteration: 1000, loss: 71.61131286621094\n",
            "Epoch: 13, Iteration: 2000, loss: 77.31390380859375\n",
            "Epoch: 13, Iteration: 3000, loss: 66.42648315429688\n",
            "Epoch: 14, Iteration: 0, loss: 99.31460571289062\n",
            "Epoch: 14, Iteration: 1000, loss: 68.06916046142578\n",
            "Epoch: 14, Iteration: 2000, loss: 89.36770629882812\n",
            "Epoch: 14, Iteration: 3000, loss: 15.617420196533203\n",
            "Epoch: 15, Iteration: 0, loss: 75.50785827636719\n",
            "Epoch: 15, Iteration: 1000, loss: 79.26754760742188\n",
            "Epoch: 15, Iteration: 2000, loss: 65.2069320678711\n",
            "Epoch: 15, Iteration: 3000, loss: 74.1563720703125\n",
            "Iteration: 3749, loss: 67.55054473876953\n",
            "241\n",
            "783\n"
          ],
          "name": "stdout"
        },
        {
          "output_type": "display_data",
          "data": {
            "image/png": "[encoded data removed]",
            "text/plain": [
              "<Figure size 432x288 with 1 Axes>"
            ]
          },
          "metadata": {
            "tags": [],
            "needs_background": "light"
          }
        },
        {
          "output_type": "display_data",
          "data": {
            "image/png": "[encoded data removed]",
            "text/plain": [
              "<Figure size 432x288 with 1 Axes>"
            ]
          },
          "metadata": {
            "tags": [],
            "needs_background": "light"
          }
        },
        {
          "output_type": "stream",
          "text": [
            "Epoch: 16, Iteration: 0, loss: 62.12015914916992\n",
            "Epoch: 16, Iteration: 1000, loss: 102.01896667480469\n",
            "Epoch: 16, Iteration: 2000, loss: 24.199600219726562\n",
            "Epoch: 16, Iteration: 3000, loss: 21.784591674804688\n",
            "Epoch: 17, Iteration: 0, loss: 45.12274932861328\n",
            "Epoch: 17, Iteration: 1000, loss: 52.25422668457031\n",
            "Epoch: 17, Iteration: 2000, loss: 74.74578857421875\n",
            "Epoch: 17, Iteration: 3000, loss: 64.50080871582031\n",
            "Epoch: 18, Iteration: 0, loss: 80.79226684570312\n",
            "Epoch: 18, Iteration: 1000, loss: 43.433380126953125\n",
            "Epoch: 18, Iteration: 2000, loss: 57.53388214111328\n",
            "Epoch: 18, Iteration: 3000, loss: 36.333587646484375\n",
            "Epoch: 19, Iteration: 0, loss: 115.9186782836914\n",
            "Epoch: 19, Iteration: 1000, loss: 69.74180603027344\n",
            "Epoch: 19, Iteration: 2000, loss: 72.95234680175781\n",
            "Epoch: 19, Iteration: 3000, loss: 70.96671295166016\n",
            "Epoch: 20, Iteration: 0, loss: 67.30347442626953\n",
            "Epoch: 20, Iteration: 1000, loss: 11.840368270874023\n",
            "Epoch: 20, Iteration: 2000, loss: 56.69295120239258\n",
            "Epoch: 20, Iteration: 3000, loss: 30.198814392089844\n",
            "Iteration: 3749, loss: 85.24364471435547\n",
            "241\n",
            "783\n"
          ],
          "name": "stdout"
        },
        {
          "output_type": "display_data",
          "data": {
            "image/png": "[encoded data removed]",
            "text/plain": [
              "<Figure size 432x288 with 1 Axes>"
            ]
          },
          "metadata": {
            "tags": [],
            "needs_background": "light"
          }
        },
        {
          "output_type": "display_data",
          "data": {
            "image/png": "[encoded data removed]",
            "text/plain": [
              "<Figure size 432x288 with 1 Axes>"
            ]
          },
          "metadata": {
            "tags": [],
            "needs_background": "light"
          }
        },
        {
          "output_type": "stream",
          "text": [
            "Epoch: 21, Iteration: 0, loss: 47.108299255371094\n",
            "Epoch: 21, Iteration: 1000, loss: 51.33772659301758\n",
            "Epoch: 21, Iteration: 2000, loss: 33.92209243774414\n",
            "Epoch: 21, Iteration: 3000, loss: 62.9722900390625\n",
            "Epoch: 22, Iteration: 0, loss: 75.04339599609375\n",
            "Epoch: 22, Iteration: 1000, loss: 30.65320587158203\n",
            "Epoch: 22, Iteration: 2000, loss: 40.18750762939453\n",
            "Epoch: 22, Iteration: 3000, loss: 22.81427764892578\n",
            "Epoch: 23, Iteration: 0, loss: 79.71829223632812\n",
            "Epoch: 23, Iteration: 1000, loss: 25.419845581054688\n",
            "Epoch: 23, Iteration: 2000, loss: 53.59400939941406\n",
            "Epoch: 23, Iteration: 3000, loss: 32.347633361816406\n",
            "Epoch: 24, Iteration: 0, loss: 70.30498504638672\n",
            "Epoch: 24, Iteration: 1000, loss: 69.13432312011719\n",
            "Epoch: 24, Iteration: 2000, loss: 55.57374954223633\n",
            "Epoch: 24, Iteration: 3000, loss: 48.281341552734375\n",
            "Epoch: 25, Iteration: 0, loss: 53.701866149902344\n",
            "Epoch: 25, Iteration: 1000, loss: 46.35489273071289\n",
            "Epoch: 25, Iteration: 2000, loss: 64.08085632324219\n",
            "Epoch: 25, Iteration: 3000, loss: 61.42215347290039\n",
            "Iteration: 3749, loss: 36.135398864746094\n",
            "241\n",
            "783\n"
          ],
          "name": "stdout"
        },
        {
          "output_type": "display_data",
          "data": {
            "image/png": "[encoded data removed]",
            "text/plain": [
              "<Figure size 432x288 with 1 Axes>"
            ]
          },
          "metadata": {
            "tags": [],
            "needs_background": "light"
          }
        },
        {
          "output_type": "display_data",
          "data": {
            "image/png": "[encoded data removed]",
            "text/plain": [
              "<Figure size 432x288 with 1 Axes>"
            ]
          },
          "metadata": {
            "tags": [],
            "needs_background": "light"
          }
        },
        {
          "output_type": "stream",
          "text": [
            "Epoch: 26, Iteration: 0, loss: 63.78865432739258\n",
            "Epoch: 26, Iteration: 1000, loss: 61.445701599121094\n",
            "Epoch: 26, Iteration: 2000, loss: 40.84637451171875\n",
            "Epoch: 26, Iteration: 3000, loss: 92.9661636352539\n",
            "Epoch: 27, Iteration: 0, loss: 63.31585693359375\n",
            "Epoch: 27, Iteration: 1000, loss: 47.38983154296875\n",
            "Epoch: 27, Iteration: 2000, loss: 56.004642486572266\n",
            "Epoch: 27, Iteration: 3000, loss: 81.77672576904297\n",
            "Epoch: 28, Iteration: 0, loss: 27.896305084228516\n",
            "Epoch: 28, Iteration: 1000, loss: 91.9887466430664\n",
            "Epoch: 28, Iteration: 2000, loss: 74.140869140625\n",
            "Epoch: 28, Iteration: 3000, loss: 72.14610290527344\n",
            "Epoch: 29, Iteration: 0, loss: 61.43299865722656\n",
            "Epoch: 29, Iteration: 1000, loss: 69.58722686767578\n",
            "Epoch: 29, Iteration: 2000, loss: 95.96965026855469\n",
            "Epoch: 29, Iteration: 3000, loss: 67.52896118164062\n",
            "Epoch: 30, Iteration: 0, loss: 75.89006042480469\n",
            "Epoch: 30, Iteration: 1000, loss: 78.20459747314453\n",
            "Epoch: 30, Iteration: 2000, loss: 40.89807891845703\n",
            "Epoch: 30, Iteration: 3000, loss: 91.85539245605469\n",
            "Iteration: 3749, loss: 87.48736572265625\n",
            "241\n",
            "783\n"
          ],
          "name": "stdout"
        },
        {
          "output_type": "display_data",
          "data": {
            "image/png": "[encoded data removed]",
            "text/plain": [
              "<Figure size 432x288 with 1 Axes>"
            ]
          },
          "metadata": {
            "tags": [],
            "needs_background": "light"
          }
        },
        {
          "output_type": "display_data",
          "data": {
            "image/png": "[encoded data removed]",
            "text/plain": [
              "<Figure size 432x288 with 1 Axes>"
            ]
          },
          "metadata": {
            "tags": [],
            "needs_background": "light"
          }
        },
        {
          "output_type": "stream",
          "text": [
            "Epoch: 31, Iteration: 0, loss: 71.01934051513672\n",
            "Epoch: 31, Iteration: 1000, loss: 101.30120849609375\n",
            "Epoch: 31, Iteration: 2000, loss: 47.05897903442383\n",
            "Epoch: 31, Iteration: 3000, loss: 73.72328186035156\n",
            "Epoch: 32, Iteration: 0, loss: 51.11341857910156\n",
            "Epoch: 32, Iteration: 1000, loss: 37.06229782104492\n",
            "Epoch: 32, Iteration: 2000, loss: 58.87605285644531\n",
            "Epoch: 32, Iteration: 3000, loss: 47.65528106689453\n",
            "Epoch: 33, Iteration: 0, loss: 61.65988540649414\n",
            "Epoch: 33, Iteration: 1000, loss: 40.807594299316406\n",
            "Epoch: 33, Iteration: 2000, loss: 81.25237274169922\n",
            "Epoch: 33, Iteration: 3000, loss: 66.36421203613281\n",
            "Epoch: 34, Iteration: 0, loss: 69.62124633789062\n",
            "Epoch: 34, Iteration: 1000, loss: 67.9074935913086\n",
            "Epoch: 34, Iteration: 2000, loss: 89.23345947265625\n",
            "Epoch: 34, Iteration: 3000, loss: 59.83427810668945\n",
            "Epoch: 35, Iteration: 0, loss: 41.51514434814453\n",
            "Epoch: 35, Iteration: 1000, loss: 51.06812286376953\n",
            "Epoch: 35, Iteration: 2000, loss: 84.91348266601562\n",
            "Epoch: 35, Iteration: 3000, loss: 90.94863891601562\n",
            "Iteration: 3749, loss: 17.970157623291016\n",
            "241\n",
            "783\n"
          ],
          "name": "stdout"
        },
        {
          "output_type": "display_data",
          "data": {
            "image/png": "[encoded data removed]",
            "text/plain": [
              "<Figure size 432x288 with 1 Axes>"
            ]
          },
          "metadata": {
            "tags": [],
            "needs_background": "light"
          }
        },
        {
          "output_type": "display_data",
          "data": {
            "image/png": "[encoded data removed]",
            "text/plain": [
              "<Figure size 432x288 with 1 Axes>"
            ]
          },
          "metadata": {
            "tags": [],
            "needs_background": "light"
          }
        },
        {
          "output_type": "stream",
          "text": [
            "Epoch: 36, Iteration: 0, loss: 60.09169006347656\n",
            "Epoch: 36, Iteration: 1000, loss: 89.47075653076172\n",
            "Epoch: 36, Iteration: 2000, loss: 93.13554382324219\n",
            "Epoch: 36, Iteration: 3000, loss: 83.60603332519531\n",
            "Epoch: 37, Iteration: 0, loss: 49.1625862121582\n",
            "Epoch: 37, Iteration: 1000, loss: 64.18814086914062\n",
            "Epoch: 37, Iteration: 2000, loss: 40.52960968017578\n",
            "Epoch: 37, Iteration: 3000, loss: 9.68198013305664\n",
            "Epoch: 38, Iteration: 0, loss: 68.46884155273438\n",
            "Epoch: 38, Iteration: 1000, loss: 35.748050689697266\n",
            "Epoch: 38, Iteration: 2000, loss: 83.74777221679688\n",
            "Epoch: 38, Iteration: 3000, loss: 112.58021545410156\n",
            "Epoch: 39, Iteration: 0, loss: 42.091609954833984\n",
            "Epoch: 39, Iteration: 1000, loss: 30.464996337890625\n",
            "Epoch: 39, Iteration: 2000, loss: 25.302974700927734\n",
            "Epoch: 39, Iteration: 3000, loss: 50.54482650756836\n",
            "Epoch: 40, Iteration: 0, loss: 60.06061553955078\n",
            "Epoch: 40, Iteration: 1000, loss: 82.88423156738281\n",
            "Epoch: 40, Iteration: 2000, loss: 89.05908203125\n",
            "Epoch: 40, Iteration: 3000, loss: 90.22567749023438\n",
            "Iteration: 3749, loss: 84.95304107666016\n",
            "241\n",
            "783\n"
          ],
          "name": "stdout"
        },
        {
          "output_type": "display_data",
          "data": {
            "image/png": "[encoded data removed]",
            "text/plain": [
              "<Figure size 432x288 with 1 Axes>"
            ]
          },
          "metadata": {
            "tags": [],
            "needs_background": "light"
          }
        },
        {
          "output_type": "display_data",
          "data": {
            "image/png": "[encoded data removed]",
            "text/plain": [
              "<Figure size 432x288 with 1 Axes>"
            ]
          },
          "metadata": {
            "tags": [],
            "needs_background": "light"
          }
        },
        {
          "output_type": "stream",
          "text": [
            "Epoch: 41, Iteration: 0, loss: 67.1124267578125\n",
            "Epoch: 41, Iteration: 1000, loss: 60.9547004699707\n",
            "Epoch: 41, Iteration: 2000, loss: 92.86888885498047\n",
            "Epoch: 41, Iteration: 3000, loss: 52.16204071044922\n",
            "Epoch: 42, Iteration: 0, loss: 44.60065841674805\n",
            "Epoch: 42, Iteration: 1000, loss: 98.19088745117188\n",
            "Epoch: 42, Iteration: 2000, loss: 87.32352447509766\n",
            "Epoch: 42, Iteration: 3000, loss: 74.98776245117188\n",
            "Epoch: 43, Iteration: 0, loss: 63.50927734375\n",
            "Epoch: 43, Iteration: 1000, loss: 97.05020141601562\n",
            "Epoch: 43, Iteration: 2000, loss: 16.393686294555664\n",
            "Epoch: 43, Iteration: 3000, loss: 64.85990905761719\n",
            "Epoch: 44, Iteration: 0, loss: 57.27446746826172\n",
            "Epoch: 44, Iteration: 1000, loss: 49.851661682128906\n",
            "Epoch: 44, Iteration: 2000, loss: 50.93560791015625\n",
            "Epoch: 44, Iteration: 3000, loss: 114.78414916992188\n",
            "Epoch: 45, Iteration: 0, loss: 78.72230529785156\n",
            "Epoch: 45, Iteration: 1000, loss: 77.69886016845703\n",
            "Epoch: 45, Iteration: 2000, loss: 74.63341522216797\n",
            "Epoch: 45, Iteration: 3000, loss: 106.32087707519531\n",
            "Iteration: 3749, loss: 67.63578796386719\n",
            "241\n",
            "783\n"
          ],
          "name": "stdout"
        },
        {
          "output_type": "display_data",
          "data": {
            "image/png": "[encoded data removed]",
            "text/plain": [
              "<Figure size 432x288 with 1 Axes>"
            ]
          },
          "metadata": {
            "tags": [],
            "needs_background": "light"
          }
        },
        {
          "output_type": "display_data",
          "data": {
            "image/png": "[encoded data removed]",
            "text/plain": [
              "<Figure size 432x288 with 1 Axes>"
            ]
          },
          "metadata": {
            "tags": [],
            "needs_background": "light"
          }
        },
        {
          "output_type": "stream",
          "text": [
            "Epoch: 46, Iteration: 0, loss: 55.90620422363281\n",
            "Epoch: 46, Iteration: 1000, loss: 50.45137023925781\n",
            "Epoch: 46, Iteration: 2000, loss: 21.413909912109375\n",
            "Epoch: 46, Iteration: 3000, loss: 77.10757446289062\n",
            "Epoch: 47, Iteration: 0, loss: 34.639373779296875\n",
            "Epoch: 47, Iteration: 1000, loss: 62.710716247558594\n",
            "Epoch: 47, Iteration: 2000, loss: 70.94486999511719\n",
            "Epoch: 47, Iteration: 3000, loss: 77.16615295410156\n",
            "Epoch: 48, Iteration: 0, loss: 18.9650936126709\n",
            "Epoch: 48, Iteration: 1000, loss: 70.54817962646484\n",
            "Epoch: 48, Iteration: 2000, loss: 72.78592681884766\n",
            "Epoch: 48, Iteration: 3000, loss: 75.1491470336914\n",
            "Epoch: 49, Iteration: 0, loss: 53.34308624267578\n",
            "Epoch: 49, Iteration: 1000, loss: 70.30775451660156\n",
            "Epoch: 49, Iteration: 2000, loss: 24.23307991027832\n",
            "Epoch: 49, Iteration: 3000, loss: 7.334323883056641\n"
          ],
          "name": "stdout"
        }
      ]
    },
    {
      "cell_type": "code",
      "metadata": {
        "id": "9rh1qJgM7bJ7"
      },
      "source": [
        "# TODO overfitting 3 classes, avg. epoch loss"
      ],
      "execution_count": null,
      "outputs": []
    },
    {
      "cell_type": "code",
      "metadata": {
        "id": "4NaSGrGH7bJ7"
      },
      "source": [
        "test_set = preprocess_mnist(test_generator, dev, train=False)"
      ],
      "execution_count": null,
      "outputs": []
    },
    {
      "cell_type": "code",
      "metadata": {
        "id": "IwIHkqZ47bJ7"
      },
      "source": [
        "xc, yc, xt, yt = test_set[6]"
      ],
      "execution_count": null,
      "outputs": []
    },
    {
      "cell_type": "code",
      "metadata": {
        "id": "npOTG36Q7bJ8"
      },
      "source": [
        "m = torch.zeros(28, 28)\n",
        "x, y = rescale(xt[0], mu.detach()[0], 'cpu')\n",
        "xk, yk = rescale(xc[0], yc[0], 'cpu')\n",
        "\n",
        "num_context = xk.shape[0]\n",
        "\n",
        "for i, val in enumerate(x):\n",
        "    \n",
        "    if i < num_context:\n",
        "      m[val[0], val[1]] = yk[i]\n",
        "    else:\n",
        "      m[val[0], val[1]] = y[i]\n",
        "\n",
        "plt.imshow(m)"
      ],
      "execution_count": null,
      "outputs": []
    }
  ]
}